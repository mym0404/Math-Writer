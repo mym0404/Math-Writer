{
 "cells": [
  {
   "cell_type": "markdown",
   "metadata": {
    "scrolled": true
   },
   "source": [
    "# Math Writer 1.0v<br/>\n",
    "\n",
    "Author : MJStudio<br/><br/>\n",
    "\n",
    "Description : <br/><br/>\n",
    "&nbsp;&nbsp;&nbsp;&nbsp;Project for GIST 2018 software application and coding class<br/><br/>\n",
    "&nbsp;&nbsp;&nbsp;&nbsp;Unity + Node.js + Tensorflow = Simple Machine Learning Math Game!"
   ]
  },
  {
   "cell_type": "code",
   "execution_count": 7,
   "metadata": {},
   "outputs": [
    {
     "name": "stdout",
     "output_type": "stream",
     "text": [
      "Extracting MNIST_data/train-images-idx3-ubyte.gz\n",
      "Extracting MNIST_data/train-labels-idx1-ubyte.gz\n",
      "Extracting MNIST_data/t10k-images-idx3-ubyte.gz\n",
      "Extracting MNIST_data/t10k-labels-idx1-ubyte.gz\n"
     ]
    }
   ],
   "source": [
    "#Socket IO for Network\n",
    "from socketIO_client import SocketIO, LoggingNamespace\n",
    "EVENT_CODE=\"TENSORFLOW\"\n",
    "EVENT_CODE_NON_MNIST=\"TENSORFLOW_NON_MNIST\"\n",
    "#We encode, decode image as a base64 string\n",
    "import base64\n",
    "#openCV is used for preprocess raw image\n",
    "import cv2 as cv2\n",
    "import numpy as np\n",
    "from matplotlib import pyplot as plt\n",
    "#TENSORFLOW!\n",
    "import tensorflow as tf\n",
    "import random\n",
    "import math\n",
    "#We parse data with json in network\n",
    "import json\n",
    "\n",
    "import random\n",
    "\n",
    "#MNIST Data sets\n",
    "from tensorflow.examples.tutorials.mnist import input_data\n",
    "mnist=input_data.read_data_sets(\"MNIST_data/\",one_hot=True)"
   ]
  },
  {
   "cell_type": "markdown",
   "metadata": {},
   "source": [
    "### Set Python Global Variables ###"
   ]
  },
  {
   "cell_type": "code",
   "execution_count": 2,
   "metadata": {},
   "outputs": [],
   "source": [
    "learning_rate=0.001\n",
    "nb_classes=10\n",
    "keep_prob=tf.placeholder(dtype=tf.float32,name='keep_prob')\n",
    "\n",
    "tf.set_random_seed(777)"
   ]
  },
  {
   "cell_type": "markdown",
   "metadata": {},
   "source": [
    "### Pre-Predict Model <br/><br/>\n",
    "\n",
    "layer wide = 256(layer1)<br/>"
   ]
  },
  {
   "cell_type": "code",
   "execution_count": 11,
   "metadata": {},
   "outputs": [],
   "source": [
    "layer_wide_pre=256\n",
    "\n",
    "xy_pre=np.loadtxt('mnist-non_mnist.csv',delimiter=',',dtype=np.float32)\n",
    "x_data_pre=xy_pre[:,1:]\n",
    "x_data_pre=x_data_pre/255.0\n",
    "\n",
    "y_data_pre=xy_pre[:,[0]]\n",
    "\n",
    "X_pre=tf.placeholder(tf.float32,[None,784])\n",
    "Y_pre=tf.placeholder(tf.float32,[None,1])\n",
    "\n",
    "W1_pre=tf.Variable(tf.random_normal([784,layer_wide_pre]))\n",
    "b1_pre=tf.Variable(tf.random_normal([layer_wide_pre]))\n",
    "layer1_pre=tf.sigmoid(tf.matmul(X_pre,W1_pre)+b1_pre)\n",
    "\n",
    "W2_pre=tf.Variable(tf.random_normal([layer_wide_pre,1]))\n",
    "b2_pre=tf.Variable(tf.random_normal([1]))\n",
    "hypothesis_pre=tf.sigmoid(tf.matmul(layer1_pre,W2_pre)+b2_pre)\n",
    "\n",
    "epsilon=1e-6\n",
    "\n",
    "cost_pre=-tf.reduce_mean(Y_pre * tf.log(hypothesis_pre+epsilon)\\\n",
    "                         +(1-Y_pre)*tf.log(1-hypothesis_pre+epsilon))\n",
    "train_pre=tf.train.GradientDescentOptimizer(learning_rate=1e-3).minimize(cost_pre)\n",
    "\n",
    "predicted_pre=tf.cast(hypothesis_pre>0.5,dtype=tf.float32)\n",
    "accuracy_pre=tf.reduce_mean(tf.cast(tf.equal(predicted_pre,Y_pre),dtype=tf.float32))"
   ]
  },
  {
   "cell_type": "markdown",
   "metadata": {},
   "source": [
    "### Pre-Predict Model Training & Test"
   ]
  },
  {
   "cell_type": "code",
   "execution_count": 95,
   "metadata": {
    "scrolled": true
   },
   "outputs": [
    {
     "name": "stdout",
     "output_type": "stream",
     "text": [
      "0 Cost : 2.6565785\n"
     ]
    },
    {
     "ename": "KeyboardInterrupt",
     "evalue": "",
     "output_type": "error",
     "traceback": [
      "\u001b[0;31m---------------------------------------------------------------------------\u001b[0m",
      "\u001b[0;31mKeyboardInterrupt\u001b[0m                         Traceback (most recent call last)",
      "\u001b[0;32m<ipython-input-95-3d51b5dbc881>\u001b[0m in \u001b[0;36m<module>\u001b[0;34m\u001b[0m\n\u001b[1;32m      4\u001b[0m \u001b[0;32mfor\u001b[0m \u001b[0mstep\u001b[0m \u001b[0;32min\u001b[0m \u001b[0mrange\u001b[0m\u001b[0;34m(\u001b[0m\u001b[0;36m5001\u001b[0m\u001b[0;34m)\u001b[0m\u001b[0;34m:\u001b[0m\u001b[0;34m\u001b[0m\u001b[0m\n\u001b[1;32m      5\u001b[0m     \u001b[0mfeed_dict_pre\u001b[0m\u001b[0;34m=\u001b[0m\u001b[0;34m{\u001b[0m\u001b[0mX_pre\u001b[0m\u001b[0;34m:\u001b[0m\u001b[0mx_data_pre\u001b[0m\u001b[0;34m,\u001b[0m\u001b[0mY_pre\u001b[0m\u001b[0;34m:\u001b[0m\u001b[0my_data_pre\u001b[0m\u001b[0;34m}\u001b[0m\u001b[0;34m\u001b[0m\u001b[0m\n\u001b[0;32m----> 6\u001b[0;31m     \u001b[0m_c\u001b[0m\u001b[0;34m,\u001b[0m\u001b[0m_\u001b[0m\u001b[0;34m=\u001b[0m\u001b[0msess_pre\u001b[0m\u001b[0;34m.\u001b[0m\u001b[0mrun\u001b[0m\u001b[0;34m(\u001b[0m\u001b[0;34m[\u001b[0m\u001b[0mcost_pre\u001b[0m\u001b[0;34m,\u001b[0m\u001b[0mtrain_pre\u001b[0m\u001b[0;34m]\u001b[0m\u001b[0;34m,\u001b[0m\u001b[0mfeed_dict\u001b[0m\u001b[0;34m=\u001b[0m\u001b[0mfeed_dict_pre\u001b[0m\u001b[0;34m)\u001b[0m\u001b[0;34m\u001b[0m\u001b[0m\n\u001b[0m\u001b[1;32m      7\u001b[0m     \u001b[0;32mif\u001b[0m \u001b[0mstep\u001b[0m \u001b[0;34m%\u001b[0m \u001b[0;36m1000\u001b[0m \u001b[0;34m==\u001b[0m \u001b[0;36m0\u001b[0m\u001b[0;34m:\u001b[0m\u001b[0;34m\u001b[0m\u001b[0m\n\u001b[1;32m      8\u001b[0m         \u001b[0mprint\u001b[0m\u001b[0;34m(\u001b[0m\u001b[0mstep\u001b[0m\u001b[0;34m,\u001b[0m\u001b[0;34m'Cost :'\u001b[0m\u001b[0;34m,\u001b[0m\u001b[0m_c\u001b[0m\u001b[0;34m)\u001b[0m\u001b[0;34m\u001b[0m\u001b[0m\n",
      "\u001b[0;32m~/miniconda3/envs/tensorflow/lib/python3.6/site-packages/tensorflow/python/client/session.py\u001b[0m in \u001b[0;36mrun\u001b[0;34m(self, fetches, feed_dict, options, run_metadata)\u001b[0m\n\u001b[1;32m    927\u001b[0m     \u001b[0;32mtry\u001b[0m\u001b[0;34m:\u001b[0m\u001b[0;34m\u001b[0m\u001b[0m\n\u001b[1;32m    928\u001b[0m       result = self._run(None, fetches, feed_dict, options_ptr,\n\u001b[0;32m--> 929\u001b[0;31m                          run_metadata_ptr)\n\u001b[0m\u001b[1;32m    930\u001b[0m       \u001b[0;32mif\u001b[0m \u001b[0mrun_metadata\u001b[0m\u001b[0;34m:\u001b[0m\u001b[0;34m\u001b[0m\u001b[0m\n\u001b[1;32m    931\u001b[0m         \u001b[0mproto_data\u001b[0m \u001b[0;34m=\u001b[0m \u001b[0mtf_session\u001b[0m\u001b[0;34m.\u001b[0m\u001b[0mTF_GetBuffer\u001b[0m\u001b[0;34m(\u001b[0m\u001b[0mrun_metadata_ptr\u001b[0m\u001b[0;34m)\u001b[0m\u001b[0;34m\u001b[0m\u001b[0m\n",
      "\u001b[0;32m~/miniconda3/envs/tensorflow/lib/python3.6/site-packages/tensorflow/python/client/session.py\u001b[0m in \u001b[0;36m_run\u001b[0;34m(self, handle, fetches, feed_dict, options, run_metadata)\u001b[0m\n\u001b[1;32m   1150\u001b[0m     \u001b[0;32mif\u001b[0m \u001b[0mfinal_fetches\u001b[0m \u001b[0;32mor\u001b[0m \u001b[0mfinal_targets\u001b[0m \u001b[0;32mor\u001b[0m \u001b[0;34m(\u001b[0m\u001b[0mhandle\u001b[0m \u001b[0;32mand\u001b[0m \u001b[0mfeed_dict_tensor\u001b[0m\u001b[0;34m)\u001b[0m\u001b[0;34m:\u001b[0m\u001b[0;34m\u001b[0m\u001b[0m\n\u001b[1;32m   1151\u001b[0m       results = self._do_run(handle, final_targets, final_fetches,\n\u001b[0;32m-> 1152\u001b[0;31m                              feed_dict_tensor, options, run_metadata)\n\u001b[0m\u001b[1;32m   1153\u001b[0m     \u001b[0;32melse\u001b[0m\u001b[0;34m:\u001b[0m\u001b[0;34m\u001b[0m\u001b[0m\n\u001b[1;32m   1154\u001b[0m       \u001b[0mresults\u001b[0m \u001b[0;34m=\u001b[0m \u001b[0;34m[\u001b[0m\u001b[0;34m]\u001b[0m\u001b[0;34m\u001b[0m\u001b[0m\n",
      "\u001b[0;32m~/miniconda3/envs/tensorflow/lib/python3.6/site-packages/tensorflow/python/client/session.py\u001b[0m in \u001b[0;36m_do_run\u001b[0;34m(self, handle, target_list, fetch_list, feed_dict, options, run_metadata)\u001b[0m\n\u001b[1;32m   1326\u001b[0m     \u001b[0;32mif\u001b[0m \u001b[0mhandle\u001b[0m \u001b[0;32mis\u001b[0m \u001b[0;32mNone\u001b[0m\u001b[0;34m:\u001b[0m\u001b[0;34m\u001b[0m\u001b[0m\n\u001b[1;32m   1327\u001b[0m       return self._do_call(_run_fn, feeds, fetches, targets, options,\n\u001b[0;32m-> 1328\u001b[0;31m                            run_metadata)\n\u001b[0m\u001b[1;32m   1329\u001b[0m     \u001b[0;32melse\u001b[0m\u001b[0;34m:\u001b[0m\u001b[0;34m\u001b[0m\u001b[0m\n\u001b[1;32m   1330\u001b[0m       \u001b[0;32mreturn\u001b[0m \u001b[0mself\u001b[0m\u001b[0;34m.\u001b[0m\u001b[0m_do_call\u001b[0m\u001b[0;34m(\u001b[0m\u001b[0m_prun_fn\u001b[0m\u001b[0;34m,\u001b[0m \u001b[0mhandle\u001b[0m\u001b[0;34m,\u001b[0m \u001b[0mfeeds\u001b[0m\u001b[0;34m,\u001b[0m \u001b[0mfetches\u001b[0m\u001b[0;34m)\u001b[0m\u001b[0;34m\u001b[0m\u001b[0m\n",
      "\u001b[0;32m~/miniconda3/envs/tensorflow/lib/python3.6/site-packages/tensorflow/python/client/session.py\u001b[0m in \u001b[0;36m_do_call\u001b[0;34m(self, fn, *args)\u001b[0m\n\u001b[1;32m   1332\u001b[0m   \u001b[0;32mdef\u001b[0m \u001b[0m_do_call\u001b[0m\u001b[0;34m(\u001b[0m\u001b[0mself\u001b[0m\u001b[0;34m,\u001b[0m \u001b[0mfn\u001b[0m\u001b[0;34m,\u001b[0m \u001b[0;34m*\u001b[0m\u001b[0margs\u001b[0m\u001b[0;34m)\u001b[0m\u001b[0;34m:\u001b[0m\u001b[0;34m\u001b[0m\u001b[0m\n\u001b[1;32m   1333\u001b[0m     \u001b[0;32mtry\u001b[0m\u001b[0;34m:\u001b[0m\u001b[0;34m\u001b[0m\u001b[0m\n\u001b[0;32m-> 1334\u001b[0;31m       \u001b[0;32mreturn\u001b[0m \u001b[0mfn\u001b[0m\u001b[0;34m(\u001b[0m\u001b[0;34m*\u001b[0m\u001b[0margs\u001b[0m\u001b[0;34m)\u001b[0m\u001b[0;34m\u001b[0m\u001b[0m\n\u001b[0m\u001b[1;32m   1335\u001b[0m     \u001b[0;32mexcept\u001b[0m \u001b[0merrors\u001b[0m\u001b[0;34m.\u001b[0m\u001b[0mOpError\u001b[0m \u001b[0;32mas\u001b[0m \u001b[0me\u001b[0m\u001b[0;34m:\u001b[0m\u001b[0;34m\u001b[0m\u001b[0m\n\u001b[1;32m   1336\u001b[0m       \u001b[0mmessage\u001b[0m \u001b[0;34m=\u001b[0m \u001b[0mcompat\u001b[0m\u001b[0;34m.\u001b[0m\u001b[0mas_text\u001b[0m\u001b[0;34m(\u001b[0m\u001b[0me\u001b[0m\u001b[0;34m.\u001b[0m\u001b[0mmessage\u001b[0m\u001b[0;34m)\u001b[0m\u001b[0;34m\u001b[0m\u001b[0m\n",
      "\u001b[0;32m~/miniconda3/envs/tensorflow/lib/python3.6/site-packages/tensorflow/python/client/session.py\u001b[0m in \u001b[0;36m_run_fn\u001b[0;34m(feed_dict, fetch_list, target_list, options, run_metadata)\u001b[0m\n\u001b[1;32m   1317\u001b[0m       \u001b[0mself\u001b[0m\u001b[0;34m.\u001b[0m\u001b[0m_extend_graph\u001b[0m\u001b[0;34m(\u001b[0m\u001b[0;34m)\u001b[0m\u001b[0;34m\u001b[0m\u001b[0m\n\u001b[1;32m   1318\u001b[0m       return self._call_tf_sessionrun(\n\u001b[0;32m-> 1319\u001b[0;31m           options, feed_dict, fetch_list, target_list, run_metadata)\n\u001b[0m\u001b[1;32m   1320\u001b[0m \u001b[0;34m\u001b[0m\u001b[0m\n\u001b[1;32m   1321\u001b[0m     \u001b[0;32mdef\u001b[0m \u001b[0m_prun_fn\u001b[0m\u001b[0;34m(\u001b[0m\u001b[0mhandle\u001b[0m\u001b[0;34m,\u001b[0m \u001b[0mfeed_dict\u001b[0m\u001b[0;34m,\u001b[0m \u001b[0mfetch_list\u001b[0m\u001b[0;34m)\u001b[0m\u001b[0;34m:\u001b[0m\u001b[0;34m\u001b[0m\u001b[0m\n",
      "\u001b[0;32m~/miniconda3/envs/tensorflow/lib/python3.6/site-packages/tensorflow/python/client/session.py\u001b[0m in \u001b[0;36m_call_tf_sessionrun\u001b[0;34m(self, options, feed_dict, fetch_list, target_list, run_metadata)\u001b[0m\n\u001b[1;32m   1405\u001b[0m     return tf_session.TF_SessionRun_wrapper(\n\u001b[1;32m   1406\u001b[0m         \u001b[0mself\u001b[0m\u001b[0;34m.\u001b[0m\u001b[0m_session\u001b[0m\u001b[0;34m,\u001b[0m \u001b[0moptions\u001b[0m\u001b[0;34m,\u001b[0m \u001b[0mfeed_dict\u001b[0m\u001b[0;34m,\u001b[0m \u001b[0mfetch_list\u001b[0m\u001b[0;34m,\u001b[0m \u001b[0mtarget_list\u001b[0m\u001b[0;34m,\u001b[0m\u001b[0;34m\u001b[0m\u001b[0m\n\u001b[0;32m-> 1407\u001b[0;31m         run_metadata)\n\u001b[0m\u001b[1;32m   1408\u001b[0m \u001b[0;34m\u001b[0m\u001b[0m\n\u001b[1;32m   1409\u001b[0m   \u001b[0;32mdef\u001b[0m \u001b[0m_call_tf_sessionprun\u001b[0m\u001b[0;34m(\u001b[0m\u001b[0mself\u001b[0m\u001b[0;34m,\u001b[0m \u001b[0mhandle\u001b[0m\u001b[0;34m,\u001b[0m \u001b[0mfeed_dict\u001b[0m\u001b[0;34m,\u001b[0m \u001b[0mfetch_list\u001b[0m\u001b[0;34m)\u001b[0m\u001b[0;34m:\u001b[0m\u001b[0;34m\u001b[0m\u001b[0m\n",
      "\u001b[0;31mKeyboardInterrupt\u001b[0m: "
     ]
    }
   ],
   "source": [
    "sess_pre=tf.Session()\n",
    "sess_pre.run(tf.global_variables_initializer())\n",
    "\n",
    "for step in range(5001):\n",
    "    feed_dict_pre={X_pre:x_data_pre,Y_pre:y_data_pre}\n",
    "    _c,_=sess_pre.run([cost_pre,train_pre],feed_dict=feed_dict_pre)\n",
    "    if step % 1000 == 0:\n",
    "        print(step,'Cost :',_c)\n",
    "h,c,a=sess_pre.run([hypothesis_pre,predicted_pre,accuracy_pre],feed_dict=feed_dict_pre)\n",
    "print(\"Accuracy\\n\",a)\n",
    "                    "
   ]
  },
  {
   "cell_type": "code",
   "execution_count": 105,
   "metadata": {},
   "outputs": [
    {
     "name": "stdout",
     "output_type": "stream",
     "text": [
      "[MNIST Image]\n"
     ]
    },
    {
     "data": {
      "image/png": "[encoded data removed]",
      "text/plain": [
       "<Figure size 432x288 with 1 Axes>"
      ]
     },
     "metadata": {
      "needs_background": "light"
     },
     "output_type": "display_data"
    },
    {
     "name": "stdout",
     "output_type": "stream",
     "text": [
      "This is MNIST image\n",
      "\n",
      "\n",
      "[Non-MNIST Image]\n"
     ]
    },
    {
     "data": {
      "image/png": "[encoded data removed]",
      "text/plain": [
       "<Figure size 432x288 with 1 Axes>"
      ]
     },
     "metadata": {
      "needs_background": "light"
     },
     "output_type": "display_data"
    },
    {
     "name": "stdout",
     "output_type": "stream",
     "text": [
      "This is not MNIST image\n"
     ]
    }
   ],
   "source": [
    "xy_test=np.loadtxt('mnist-non_mnist_test.csv',delimiter=',',dtype=np.float32)\n",
    "r_mnist=random.randint(1,9)\n",
    "r_non_mnist=random.randint(11,19)\n",
    "\n",
    "\n",
    "mnist_test=xy_test[r_mnist,1:].reshape(1,784)\n",
    "non_mnist_test=xy_test[r_non_mnist,1:].reshape(1,784)\n",
    "\n",
    "sess_pre.run(tf.global_variables_initializer())\n",
    "\n",
    "print('[MNIST Image]')\n",
    "plt.imshow(mnist_test.reshape(28,28),cmap='gray')\n",
    "plt.show()\n",
    "is_mnist_test=sess_pre.run(predicted_pre,feed_dict={X_pre:mnist_test})\n",
    "is_mnist_test=int(is_mnist_test[0][0].item())\n",
    "if is_mnist_test==0:\n",
    "    print('This is not MNIST image')\n",
    "else :\n",
    "    print('This is MNIST image')\n",
    "\n",
    "print('\\n\\n[Non-MNIST Image]')\n",
    "plt.imshow(non_mnist_test.reshape(28,28),cmap='gray')\n",
    "plt.show()\n",
    "is_mnist_test=sess_pre.run(predicted_pre,feed_dict={X_pre:non_mnist_test})\n",
    "is_mnist_test=int(is_mnist_test[0][0].item())\n",
    "if is_mnist_test==0:\n",
    "    print('This is not MNIST image')\n",
    "else :\n",
    "    print('This is MNIST image')\n"
   ]
  },
  {
   "cell_type": "markdown",
   "metadata": {},
   "source": [
    "### First MNIST Model <br/><br/>\n",
    "\n",
    "layer wide = 256(layer1), 256(layer2)<br/>\n",
    "drop out rate = 0.7(layer1), 0.7(layer2)"
   ]
  },
  {
   "cell_type": "code",
   "execution_count": 108,
   "metadata": {
    "scrolled": true
   },
   "outputs": [],
   "source": [
    "layer_wide_1=256\n",
    "keep_prob_training_1=0.7\n",
    "\n",
    "with tf.name_scope('Model_1'):\n",
    "    X_1=tf.placeholder(tf.float32,[None,784])\n",
    "    Y_1=tf.placeholder(tf.float32,[None,nb_classes])\n",
    "\n",
    "    with tf.name_scope('Layer1_1'):\n",
    "        W1_1=tf.get_variable('Weight1_1',shape=[784,layer_wide_1],initializer=\\\n",
    "                             tf.contrib.layers.xavier_initializer())\n",
    "        b1_1=tf.Variable(tf.random_normal([layer_wide_1],dtype=tf.float32),name='biases1_1')\n",
    "        layer1_1=tf.nn.relu(tf.matmul(X_1,W1_1)+b1_1)\n",
    "        layer1_1=tf.nn.dropout(layer1_1,keep_prob=keep_prob)\n",
    "    with tf.name_scope('Layer2_1'):\n",
    "        W2_1=tf.get_variable('Weight2_1',shape=[layer_wide_1,layer_wide_1],initializer=\\\n",
    "                             tf.contrib.layers.xavier_initializer())\n",
    "        b2_1=tf.Variable(tf.random_normal([layer_wide_1],dtype=tf.float32),name='biases2_1')\n",
    "        layer2_1=tf.nn.relu(tf.matmul(layer1_1,W2_1)+b2_1)\n",
    "        layer2_1=tf.nn.dropout(layer2_1,keep_prob=keep_prob)\n",
    "    with tf.name_scope('Hypothesis_1'):\n",
    "        W3_1=tf.get_variable('Weight3_1',shape=[layer_wide_1,nb_classes],initializer=\\\n",
    "                             tf.contrib.layers.xavier_initializer())\n",
    "        b3_1=tf.Variable(tf.random_normal([nb_classes],name='biases3_1'))\n",
    "        logits_1=tf.matmul(layer2_1,W3_1)+b3_1\n",
    "        hypothesis_1=tf.nn.softmax(logits_1,name='Hypothesis_1')\n",
    "\n",
    "    cost_1=tf.nn.softmax_cross_entropy_with_logits_v2(logits=logits_1,labels=Y_1)\n",
    "    cost_1=tf.reduce_mean(cost_1)\n",
    "    train_1=tf.train.AdamOptimizer(learning_rate=learning_rate).minimize(cost_1)\n",
    "\n",
    "    is_correct_1=tf.equal(tf.argmax(hypothesis_1,1),tf.argmax(Y_1,1))\n",
    "    accuracy_1=tf.reduce_mean(tf.cast(is_correct_1,tf.float32))"
   ]
  },
  {
   "cell_type": "markdown",
   "metadata": {},
   "source": [
    "### Second MNIST Model <br/><br/>\n",
    "\n",
    "layer wide = 512(layer1), 512(layer2)<br/>\n",
    "drop out rate = 0.5(layer1), 0.5(layer2)"
   ]
  },
  {
   "cell_type": "code",
   "execution_count": 109,
   "metadata": {},
   "outputs": [],
   "source": [
    "layer_wide_2=512\n",
    "keep_prob_training_2=0.5\n",
    "\n",
    "with tf.name_scope('Model_2'):\n",
    "    X_2=tf.placeholder(tf.float32,[None,784])\n",
    "    Y_2=tf.placeholder(tf.float32,[None,nb_classes])\n",
    "\n",
    "    with tf.name_scope('Layer1_2'):\n",
    "        W1_2=tf.get_variable('Weight1_2',shape=[784,layer_wide_2],initializer=tf.contrib.layers.xavier_initializer())\n",
    "        b1_2=tf.Variable(tf.random_normal([layer_wide_2],dtype=tf.float32),name='biases1_2')\n",
    "        layer1_2=tf.nn.relu(tf.matmul(X_2,W1_2)+b1_2)\n",
    "        layer1_2=tf.nn.dropout(layer1_2,keep_prob=keep_prob)\n",
    "    with tf.name_scope('Layer2_2'):\n",
    "        W2_2=tf.get_variable('Weight2_2',shape=[layer_wide_2,layer_wide_2],initializer=tf.contrib.layers.xavier_initializer())\n",
    "        b2_2=tf.Variable(tf.random_normal([layer_wide_2],dtype=tf.float32),name='biases2_2')\n",
    "        layer2_2=tf.nn.relu(tf.matmul(layer1_2,W2_2)+b2_2)\n",
    "        layer2_2=tf.nn.dropout(layer2_2,keep_prob=keep_prob)\n",
    "    with tf.name_scope('Hypothesis_2'):\n",
    "        W3_2=tf.get_variable('Weight3_2',shape=[layer_wide_2,nb_classes],initializer=tf.contrib.layers.xavier_initializer())\n",
    "        b3_2=tf.Variable(tf.random_normal([nb_classes],name='biases3_2'))\n",
    "        logits_2=tf.matmul(layer2_2,W3_2)+b3_2\n",
    "        hypothesis_2=tf.nn.softmax(logits_2,name='Hypothesis_2')\n",
    "\n",
    "    cost_2=tf.nn.softmax_cross_entropy_with_logits_v2(logits=logits_2,labels=Y_2)\n",
    "    cost_2=tf.reduce_mean(cost_2)\n",
    "    train_2=tf.train.AdamOptimizer(learning_rate=learning_rate).minimize(cost_2)\n",
    "\n",
    "    is_correct_2=tf.equal(tf.argmax(hypothesis_2,1),tf.argmax(Y_2,1))\n",
    "    accuracy_2=tf.reduce_mean(tf.cast(is_correct_2,tf.float32)) "
   ]
  },
  {
   "cell_type": "markdown",
   "metadata": {},
   "source": [
    "### Third MNIST Model <br/><br/>\n",
    "\n",
    "layer wide = 128(layer1), 128(layer2)<br/>\n",
    "drop out rate = 0.8(layer1), 0.8(layer2)"
   ]
  },
  {
   "cell_type": "code",
   "execution_count": 110,
   "metadata": {},
   "outputs": [],
   "source": [
    "layer_wide_3=128\n",
    "keep_prob_training_3=0.8\n",
    "\n",
    "with tf.name_scope('Model_3'):\n",
    "    X_3=tf.placeholder(tf.float32,[None,784])\n",
    "    Y_3=tf.placeholder(tf.float32,[None,nb_classes])\n",
    "\n",
    "    with tf.name_scope('Layer1_3'):\n",
    "        W1_3=tf.get_variable('Weight1_3',shape=[784,layer_wide_3],initializer=tf.contrib.layers.xavier_initializer())\n",
    "        b1_3=tf.Variable(tf.random_normal([layer_wide_3],dtype=tf.float32),name='biases1_3')\n",
    "        layer1_3=tf.nn.relu(tf.matmul(X_3,W1_3)+b1_3)\n",
    "        layer1_3=tf.nn.dropout(layer1_3,keep_prob=keep_prob)\n",
    "    with tf.name_scope('Layer2_3'):\n",
    "        W2_3=tf.get_variable('Weight2_3',shape=[layer_wide_3,layer_wide_3],initializer=tf.contrib.layers.xavier_initializer())\n",
    "        b2_3=tf.Variable(tf.random_normal([layer_wide_3],dtype=tf.float32),name='biases2_3')\n",
    "        layer2_3=tf.nn.relu(tf.matmul(layer1_3,W2_3)+b2_3)\n",
    "        layer2_3=tf.nn.dropout(layer2_3,keep_prob=keep_prob)\n",
    "    with tf.name_scope('Hypothesis_3'):\n",
    "        W3_3=tf.get_variable('Weight3_3',shape=[layer_wide_3,nb_classes],initializer=tf.contrib.layers.xavier_initializer())\n",
    "        b3_3=tf.Variable(tf.random_normal([nb_classes],name='biases3_3'))\n",
    "        logits_3=tf.matmul(layer2_3,W3_3)+b3_3\n",
    "        hypothesis_3=tf.nn.softmax(logits_3,name='Hypothesis_3')\n",
    "\n",
    "    cost_3=tf.nn.softmax_cross_entropy_with_logits_v2(logits=logits_3,labels=Y_3)\n",
    "    cost_3=tf.reduce_mean(cost_3)\n",
    "    train_3=tf.train.AdamOptimizer(learning_rate=learning_rate).minimize(cost_3)\n",
    "\n",
    "    is_correct_3=tf.equal(tf.argmax(hypothesis_3,1),tf.argmax(Y_3,1))\n",
    "    accuracy_3=tf.reduce_mean(tf.cast(is_correct_3,tf.float32)) "
   ]
  },
  {
   "cell_type": "markdown",
   "metadata": {},
   "source": [
    "### Declare Tensor Board Variables ###"
   ]
  },
  {
   "cell_type": "code",
   "execution_count": 111,
   "metadata": {},
   "outputs": [],
   "source": [
    "#Tensor Board\n",
    "w1_hist_1=tf.summary.histogram('weight1-Model_1',W1_1)\n",
    "b1_hist_1=tf.summary.histogram('biases1-Model_1',b1_1)\n",
    "layer1_hist_1=tf.summary.histogram('layer1-Model_1',layer1_1)\n",
    "w2_hist_1=tf.summary.histogram('weight2-Model_1',W2_1)\n",
    "b2_hist_1=tf.summary.histogram('biases2-Model_1',b2_1)\n",
    "layer2_hist_1=tf.summary.histogram('layer2-Model_1',layer2_1)\n",
    "w3_hist_1=tf.summary.histogram('weight3-Model_1',W3_1)\n",
    "b3_hist_1=tf.summary.histogram('biases3-Model_1',b3_1)\n",
    "cost_hist_1=tf.summary.histogram('cost-Model_1',cost_1)\n",
    "hypothesis_hist_1=tf.summary.histogram('hypothesis-Model_1',hypothesis_1)\n",
    "\n",
    "\n",
    "w1_hist_2=tf.summary.histogram('weight1-Model_2',W1_2)\n",
    "b1_hist_2=tf.summary.histogram('biases1-Model_2',b1_2)\n",
    "layer1_hist_2=tf.summary.histogram('layer1-Model_2',layer1_2)\n",
    "w2_hist_2=tf.summary.histogram('weight2-Model_2',W2_2)\n",
    "b2_hist_2=tf.summary.histogram('biases2-Model_2',b2_2)\n",
    "layer2_hist_2=tf.summary.histogram('layer2-Model_2',layer2_2)\n",
    "w3_hist_2=tf.summary.histogram('weight3-Model_2',W3_2)\n",
    "b3_hist_2=tf.summary.histogram('biases3-Model_2',b3_2)\n",
    "cost_hist_2=tf.summary.histogram('cost-Model_2',cost_2)\n",
    "hypothesis_hist_2=tf.summary.histogram('hypothesis-Model_2',hypothesis_2)\n",
    "\n",
    "w1_hist_3=tf.summary.histogram('weight1-Model_3',W1_3)\n",
    "b1_hist_3=tf.summary.histogram('biases1-Model_3',b1_3)\n",
    "layer1_hist_3=tf.summary.histogram('layer1-Model_3',layer1_3)\n",
    "w2_hist_3=tf.summary.histogram('weight2-Model_3',W2_3)\n",
    "b2_hist_3=tf.summary.histogram('biases2-Model_3',b2_3)\n",
    "layer2_hist_3=tf.summary.histogram('layer2-Model_3',layer2_3)\n",
    "w3_hist_3=tf.summary.histogram('weight3-Model_3',W3_3)\n",
    "b3_hist_3=tf.summary.histogram('biases3-Model_3',b3_3)\n",
    "cost_hist_3=tf.summary.histogram('cost-Model_3',cost_3)\n",
    "hypothesis_hist_3=tf.summary.histogram('hypothesis-Model_3',hypothesis_3)\n"
   ]
  },
  {
   "cell_type": "markdown",
   "metadata": {},
   "source": [
    "### Tensor Board, Global Variable Tensor Initialization ###"
   ]
  },
  {
   "cell_type": "code",
   "execution_count": 112,
   "metadata": {},
   "outputs": [],
   "source": [
    "sess=tf.Session()\n",
    "\n",
    "#Tensor Board Initialization\n",
    "merged_summary_1=tf.summary.merge([w1_hist_1,b1_hist_1,layer1_hist_1,w2_hist_1,b2_hist_1,\\\n",
    "                                  layer2_hist_1,w3_hist_1,b3_hist_1,hypothesis_hist_1])\n",
    "merged_summary_2=tf.summary.merge([w1_hist_2,b1_hist_2,layer1_hist_2,w2_hist_2,b2_hist_2,\\\n",
    "                                  layer2_hist_2,w3_hist_2,b3_hist_2,hypothesis_hist_2])\n",
    "merged_summary_3=tf.summary.merge([w1_hist_3,b1_hist_3,layer1_hist_3,w2_hist_3,b2_hist_3,\\\n",
    "                                  layer2_hist_3,w3_hist_3,b3_hist_3,hypothesis_hist_3])\n",
    "\n",
    "writer_1=tf.summary.FileWriter('./graphs/model_1')\n",
    "writer_2=tf.summary.FileWriter('./graphs/model_2')\n",
    "writer_3=tf.summary.FileWriter('./graphs/model_3')\n",
    "\n",
    "writer_1.add_graph(sess.graph)\n",
    "writer_2.add_graph(sess.graph)\n",
    "writer_3.add_graph(sess.graph)\n",
    "\n",
    "sess.run(tf.global_variables_initializer())"
   ]
  },
  {
   "cell_type": "markdown",
   "metadata": {},
   "source": [
    "### Let's Train Machines! ###"
   ]
  },
  {
   "cell_type": "code",
   "execution_count": 114,
   "metadata": {},
   "outputs": [],
   "source": [
    "#epochs count and batch size for learning\n",
    "training_epochs=5\n",
    "batch_size=100"
   ]
  },
  {
   "cell_type": "markdown",
   "metadata": {},
   "source": [
    "### First Model Training"
   ]
  },
  {
   "cell_type": "code",
   "execution_count": 115,
   "metadata": {},
   "outputs": [
    {
     "name": "stdout",
     "output_type": "stream",
     "text": [
      "******************************Model 1 Training******************************\n",
      "Epoch: 0001 cost = 0.433387964\n",
      "Accuracy:  0.9514\n"
     ]
    }
   ],
   "source": [
    "global_step=0\n",
    "print('*'*30+'Model 1 Training'+'*'*30)\n",
    "for epoch in range(training_epochs):\n",
    "    avg_cost=0\n",
    "    total_batch=int(mnist.train.num_examples/batch_size)\n",
    "    for i in range(total_batch):\n",
    "        batch_xs,batch_ys = mnist.train.next_batch(batch_size)\n",
    "        feed_dict={X_1:batch_xs,Y_1:batch_ys,keep_prob:keep_prob_training_1}\n",
    "        c,_=sess.run([cost_1,train_1],feed_dict=feed_dict)\n",
    "        \n",
    "        #Tensor Board Add Summary\n",
    "        summary_1=sess.run(merged_summary_1,feed_dict=feed_dict)\n",
    "        writer_1.add_summary(summary_1,global_step=global_step)\n",
    "        global_step+=1\n",
    "        \n",
    "        avg_cost+=c/total_batch\n",
    "    print('Epoch:','%04d'%(epoch+1),'cost =','{:.9f}'.format(avg_cost))\n",
    "\n",
    "accuracy_model_1=accuracy_1.eval(session=sess,\\\n",
    "            feed_dict={X_1:mnist.test.images,Y_1:mnist.test.labels,keep_prob:1.})\n",
    "print(\"Accuracy: \",accuracy_model_1)"
   ]
  },
  {
   "cell_type": "markdown",
   "metadata": {},
   "source": [
    "### Second Model Training"
   ]
  },
  {
   "cell_type": "code",
   "execution_count": 116,
   "metadata": {},
   "outputs": [
    {
     "name": "stdout",
     "output_type": "stream",
     "text": [
      "******************************Model 2 Training******************************\n",
      "Epoch: 0001 cost = 0.442156352\n",
      "Accuracy:  0.9555\n"
     ]
    }
   ],
   "source": [
    "global_step=0\n",
    "print('*'*30+'Model 2 Training'+'*'*30)\n",
    "for epoch in range(training_epochs):\n",
    "    avg_cost=0\n",
    "    total_batch=int(mnist.train.num_examples/batch_size)\n",
    "    for i in range(total_batch):\n",
    "        batch_xs,batch_ys = mnist.train.next_batch(batch_size)\n",
    "        feed_dict={X_2:batch_xs,Y_2:batch_ys,keep_prob:keep_prob_training_2}\n",
    "        c,_=sess.run([cost_2,train_2],feed_dict=feed_dict)\n",
    "        \n",
    "        #Tensor Board Add Summary\n",
    "        summary_2=sess.run(merged_summary_2,feed_dict=feed_dict)\n",
    "        writer_2.add_summary(summary_2,global_step=global_step)\n",
    "        global_step+=1\n",
    "        \n",
    "        avg_cost+=c/total_batch\n",
    "    print('Epoch:','%04d'%(epoch+1),'cost =','{:.9f}'.format(avg_cost))\n",
    "\n",
    "accuracy_model_2=accuracy_2.eval(session=sess,\\\n",
    "            feed_dict={X_2:mnist.test.images,Y_2:mnist.test.labels,keep_prob:1.})\n",
    "print(\"Accuracy: \",accuracy_model_2)"
   ]
  },
  {
   "cell_type": "markdown",
   "metadata": {},
   "source": [
    "### Third Model Training"
   ]
  },
  {
   "cell_type": "code",
   "execution_count": 117,
   "metadata": {},
   "outputs": [
    {
     "name": "stdout",
     "output_type": "stream",
     "text": [
      "******************************Model 3 Training******************************\n",
      "Epoch: 0001 cost = 0.489243151\n",
      "Accuracy:  0.9467\n"
     ]
    }
   ],
   "source": [
    "global_step=0\n",
    "print('*'*30+'Model 3 Training'+'*'*30)\n",
    "for epoch in range(training_epochs):\n",
    "    avg_cost=0\n",
    "    total_batch=int(mnist.train.num_examples/batch_size)\n",
    "    for i in range(total_batch):\n",
    "        batch_xs,batch_ys = mnist.train.next_batch(batch_size)\n",
    "        feed_dict={X_3:batch_xs,Y_3:batch_ys,keep_prob:keep_prob_training_3}\n",
    "        c,_=sess.run([cost_3,train_3],feed_dict=feed_dict)\n",
    "        \n",
    "        #Tensor Board Add Summary\n",
    "        summary_3=sess.run(merged_summary_3,feed_dict=feed_dict)\n",
    "        writer_3.add_summary(summary_3,global_step=global_step)\n",
    "        global_step+=1 \n",
    "        \n",
    "        avg_cost+=c/total_batch\n",
    "    print('Epoch:','%04d'%(epoch+1),'cost =','{:.9f}'.format(avg_cost))\n",
    "\n",
    "accuracy_model_3=accuracy_3.eval(session=sess,\\\n",
    "            feed_dict={X_3:mnist.test.images,Y_3:mnist.test.labels,keep_prob:1.})\n",
    "print(\"Accuracy: \",accuracy_model_3)"
   ]
  },
  {
   "cell_type": "markdown",
   "metadata": {},
   "source": [
    "### [decideAnswer] Function<br/>\n",
    "\n",
    "Parameters<br/>\n",
    "&nbsp;&nbsp;&nbsp;&nbsp;ans1 : predicted answer using first model.<br/>\n",
    "&nbsp;&nbsp;&nbsp;&nbsp;ans2 : predicted answer using second model.<br/>\n",
    "&nbsp;&nbsp;&nbsp;&nbsp;ans3 : predicted answer using third model.<br/><br/>\n",
    "\n",
    "Return<br/>\n",
    "&nbsp;&nbsp;&nbsp;&nbsp;predcited answer using 3 trained models.<br/><br/>\n",
    "\n",
    "Description<br/>\n",
    "&nbsp;&nbsp;&nbsp;&nbsp;This is for ensemble.<br/>\n",
    "&nbsp;&nbsp;&nbsp;&nbsp;This function will return predicted answer using 3 trained models."
   ]
  },
  {
   "cell_type": "code",
   "execution_count": 118,
   "metadata": {},
   "outputs": [],
   "source": [
    "def decideAnswer(ans1,ans2,ans3):\n",
    "    #If 3 predicted answers are all same, return immediately.\n",
    "    for i in range(0,10):\n",
    "        if ans1 == i and ans2 == i and ans3 == i :\n",
    "            return i\n",
    "    #If 2 predicted answers are same, return that.\n",
    "    for i in range(0,10):\n",
    "        if (ans1 == i and ans2 == i) or (ans1 == i and ans3 == i) or (ans2 == i and ans3 == i):\n",
    "            return i\n",
    "    #If predicted answers are all different, return what predicted answer of model having\n",
    "    #    the biggest accuracy. \n",
    "    if (accuracy_model_1 >= accuracy_model_2) and (accuracy_model_1 >= accuracy_model_3):\n",
    "        return ans1\n",
    "    elif (accuracy_model_2 >= accuracy_model_3) and (accuracy_model_2 >= accuracy_model_1):\n",
    "        return ans2\n",
    "    else:\n",
    "        return ans3\n",
    "    "
   ]
  },
  {
   "cell_type": "markdown",
   "metadata": {},
   "source": [
    "### MNIST Ensemble Model Test"
   ]
  },
  {
   "cell_type": "code",
   "execution_count": 127,
   "metadata": {},
   "outputs": [
    {
     "data": {
      "image/png": "[encoded data removed]",
      "text/plain": [
       "<Figure size 432x288 with 1 Axes>"
      ]
     },
     "metadata": {
      "needs_background": "light"
     },
     "output_type": "display_data"
    },
    {
     "name": "stdout",
     "output_type": "stream",
     "text": [
      "Model 1 Prediction : 0\n",
      "Model 2 Prediction : 0\n",
      "Model 3 Prediction : 0\n",
      "\n",
      "Final Prediction : 0\n"
     ]
    }
   ],
   "source": [
    "r_test=random.randint(0,5)\n",
    "\n",
    "x_mnist_test=xy_test[r_test,1:].reshape(1,784)\n",
    "y_mnist_test=xy_test[r_test,[0]]\n",
    "\n",
    "#get answer and parsing to primitive type of integer\n",
    "answer_1=sess.run(tf.argmax(hypothesis_1,1),feed_dict={X_1:x_mnist_test,keep_prob:1.})\n",
    "answer_2=sess.run(tf.argmax(hypothesis_2,1),feed_dict={X_2:x_mnist_test,keep_prob:1.})\n",
    "answer_3=sess.run(tf.argmax(hypothesis_3,1),feed_dict={X_3:x_mnist_test,keep_prob:1.})\n",
    "\n",
    "plt.imshow(x_mnist_test.reshape(28,28),cmap='gray')\n",
    "plt.show()\n",
    "\n",
    "\n",
    "print('Model 1 Prediction :',answer_1[0].item())\n",
    "print('Model 2 Prediction :',answer_2[0].item())\n",
    "print('Model 3 Prediction :',answer_3[0].item())\n",
    "answer=decideAnswer(answer_1[0].item(),answer_2[0].item(),answer_3[0].item())\n",
    "print('\\nFinal Prediction :',answer)\n"
   ]
  },
  {
   "cell_type": "markdown",
   "metadata": {},
   "source": [
    "### [receive] Function <br/>\n",
    "\n",
    "Parameters<br/>\n",
    "&nbsp;&nbsp;&nbsp;&nbsp;data : data from socket server<br/><br/>\n",
    "\n",
    "Description<br/>\n",
    "&nbsp;&nbsp;&nbsp;&nbsp;This Function is event function for receiving data from server. \n",
    "<br/><br/>\n",
    "    \n",
    "   [base64 Decoding] -> <br/>\n",
    "   &nbsp;&nbsp;&nbsp;&nbsp;&nbsp;&nbsp;&nbsp;&nbsp;&nbsp;&nbsp;&nbsp;&nbsp;&nbsp;&nbsp;&nbsp;&nbsp;&nbsp;&nbsp;&nbsp;&nbsp;&nbsp;&nbsp;&nbsp;&nbsp;&nbsp;&nbsp;&nbsp;&nbsp;&nbsp;&nbsp;&nbsp;&nbsp;&nbsp;&nbsp;&nbsp;&nbsp;[Image Processing] -> <br/>\n",
    "                                          &nbsp;&nbsp;&nbsp;&nbsp;&nbsp;&nbsp;&nbsp;&nbsp;&nbsp;&nbsp;&nbsp;&nbsp;&nbsp;&nbsp;&nbsp;&nbsp;&nbsp;&nbsp;&nbsp;&nbsp;&nbsp;&nbsp;&nbsp;&nbsp;&nbsp;&nbsp;&nbsp;&nbsp;&nbsp;&nbsp;&nbsp;&nbsp;&nbsp;&nbsp;&nbsp;&nbsp;&nbsp;&nbsp;&nbsp;&nbsp;&nbsp;&nbsp;&nbsp;&nbsp;&nbsp;&nbsp;&nbsp;&nbsp;&nbsp;&nbsp;&nbsp;&nbsp;&nbsp;&nbsp;&nbsp;&nbsp;&nbsp;&nbsp;&nbsp;&nbsp;&nbsp;&nbsp;&nbsp;&nbsp;&nbsp;&nbsp;&nbsp;&nbsp;&nbsp;&nbsp;&nbsp;&nbsp;[Predict Answer] -> <br/>\n",
    "                                                            &nbsp;&nbsp;&nbsp;&nbsp;&nbsp;&nbsp;&nbsp;&nbsp;&nbsp;&nbsp;&nbsp;&nbsp;&nbsp;&nbsp;&nbsp;&nbsp;&nbsp;&nbsp;&nbsp;&nbsp;&nbsp;&nbsp;&nbsp;&nbsp;&nbsp;&nbsp;&nbsp;&nbsp;&nbsp;&nbsp;&nbsp;&nbsp;&nbsp;&nbsp;&nbsp;&nbsp;&nbsp;&nbsp;&nbsp;&nbsp;&nbsp;&nbsp;&nbsp;&nbsp;&nbsp;&nbsp;&nbsp;&nbsp;&nbsp;&nbsp;&nbsp;&nbsp;&nbsp;&nbsp;&nbsp;&nbsp;&nbsp;&nbsp;&nbsp;&nbsp;&nbsp;&nbsp;&nbsp;&nbsp;&nbsp;&nbsp;&nbsp;&nbsp;&nbsp;&nbsp;&nbsp;&nbsp;&nbsp;&nbsp;&nbsp;&nbsp;&nbsp;&nbsp;&nbsp;&nbsp;&nbsp;&nbsp;&nbsp;&nbsp;&nbsp;&nbsp;&nbsp;&nbsp;&nbsp;&nbsp;&nbsp;&nbsp;&nbsp;&nbsp;&nbsp;&nbsp;&nbsp;&nbsp;&nbsp;&nbsp;&nbsp;&nbsp;&nbsp;&nbsp;&nbsp;&nbsp;&nbsp;&nbsp;&nbsp;&nbsp;&nbsp;&nbsp;[Echo Predicted Answer]"
   ]
  },
  {
   "cell_type": "code",
   "execution_count": 6,
   "metadata": {
    "scrolled": false
   },
   "outputs": [],
   "source": [
    "def receive(*data):\n",
    "    \n",
    "    #base64 string -> bytes\n",
    "    #print(data[0]['img'])\n",
    "    imgdata = base64.b64decode(data[0]['img'])\n",
    "    #bytes -> nparray\n",
    "    arr = np.asarray(bytearray(imgdata), dtype=np.uint8)\n",
    "    #nparray -> mat\n",
    "    img = cv2.imdecode(arr,cv2.IMREAD_GRAYSCALE)\n",
    "    \n",
    "    \n",
    "    #image reverse\n",
    "    img=255-img\n",
    "    #resize\n",
    "    img=cv2.resize(img,(28,28),interpolation=cv2.INTER_NEAREST)\n",
    "    #threashold\n",
    "    ret,img=cv2.threshold(img,170,255,cv2.THRESH_BINARY)\n",
    "\n",
    "    #mat -> nparray\n",
    "    a = np.asarray( img[:,:] )\n",
    "    a=np.reshape(a,newshape=[-1,784])\n",
    "    a=a/255.0\n",
    "\n",
    "    #get answer and parsing to primitive type of integer\n",
    "    is_mnist=sess_pre.run(predicted_pre,feed_dict={X_pre:a})\n",
    "    is_mnist=int(is_mnist[0][0].item())\n",
    "    \n",
    "    print('\\n')\n",
    "    if is_mnist==True : \n",
    "        print('This is MNIST Image! Start Predict...')\n",
    "        predictAnswer(img)\n",
    "    else:\n",
    "        print('This is not MNIST Image')\n",
    "        sock.emit(EVENT_CODE_NON_MNIST)\n",
    "        sock.wait(seconds=1)"
   ]
  },
  {
   "cell_type": "code",
   "execution_count": 7,
   "metadata": {},
   "outputs": [],
   "source": [
    "def predictAnswer(img):\n",
    "    \"\"\"for 28x28 and numbers are 20x20 in center of mass\"\"\"\n",
    "    #STEP 1 : delete completely black rows, cols\n",
    "    while np.sum(img[0]) == 0:\n",
    "        img = img[1:]\n",
    "    while np.sum(img[:,0]) == 0:\n",
    "        img = np.delete(img,0,1)\n",
    "    while np.sum(img[-1]) == 0:\n",
    "        img = img[:-1]\n",
    "    while np.sum(img[:,-1]) == 0:\n",
    "        img = np.delete(img,-1,1)\n",
    "        \n",
    "    #remain parts\n",
    "    rows,cols=img.shape\n",
    "    \n",
    "    #STEP 2 : we resize the image with 20x20 with comparing rows and cols\n",
    "    if rows > cols:\n",
    "        factor = 20.0/rows\n",
    "        rows = 20\n",
    "        cols = int(round(cols*factor))\n",
    "        img = cv2.resize(img, (cols,rows))\n",
    "    else:\n",
    "        factor = 20.0/cols\n",
    "        cols = 20\n",
    "        rows = int(round(rows*factor))\n",
    "        img = cv2.resize(img, (cols, rows))\n",
    "        \n",
    "    #STEP 3 : with np.lib.pad, we can add padding for 28x28\n",
    "    colsPadding = (int(math.ceil((28-cols)/2.0)),int(math.floor((28-cols)/2.0)))\n",
    "    rowsPadding = (int(math.ceil((28-rows)/2.0)),int(math.floor((28-rows)/2.0)))\n",
    "    img = np.lib.pad(img,(rowsPadding,colsPadding),'constant')\n",
    "    \n",
    "    \n",
    "    plt.imshow(img,cmap='gray')\n",
    "    plt.show()    \n",
    "    \n",
    "    #mat -> nparray\n",
    "    a = np.asarray( img[:,:] )\n",
    "    a=np.reshape(a,newshape=[1,784])\n",
    "    a=a/255.0\n",
    "\n",
    "    #get answer and parsing to primitive type of integer\n",
    "    answer_1=sess.run(tf.argmax(hypothesis_1,1),feed_dict={X_1:a,keep_prob:1.})\n",
    "    answer_2=sess.run(tf.argmax(hypothesis_2,1),feed_dict={X_2:a,keep_prob:1.})\n",
    "    answer_3=sess.run(tf.argmax(hypothesis_3,1),feed_dict={X_3:a,keep_prob:1.})\n",
    "    \n",
    "    print('Model 1 Prediction :',answer_1[0].item())\n",
    "    print('Model 2 Prediction :',answer_2[0].item())\n",
    "    print('Model 3 Prediction :',answer_3[0].item())\n",
    "    answer=decideAnswer(answer_1[0].item(),answer_2[0].item(),answer_3[0].item())\n",
    "    \n",
    "    #json parsing and emit to server\n",
    "    print('Ensemble Prediction(final) :',answer)\n",
    "    answer={'prediction':answer}\n",
    "    answer=json.dumps(answer)\n",
    "    sock.emit(EVENT_CODE,answer)\n",
    "    sock.wait(seconds=1)\n",
    "\n",
    "    "
   ]
  },
  {
   "cell_type": "markdown",
   "metadata": {},
   "source": [
    "### Connect Socket and Wait Event ###"
   ]
  },
  {
   "cell_type": "code",
   "execution_count": null,
   "metadata": {
    "scrolled": false
   },
   "outputs": [
    {
     "name": "stdout",
     "output_type": "stream",
     "text": [
      "\n",
      "\n",
      "This is not MNIST Image\n",
      "\n",
      "\n",
      "This is MNIST Image! Start Predict...\n"
     ]
    },
    {
     "data": {
      "image/png": "[encoded data removed]",
      "text/plain": [
       "<Figure size 432x288 with 1 Axes>"
      ]
     },
     "metadata": {
      "needs_background": "light"
     },
     "output_type": "display_data"
    },
    {
     "name": "stdout",
     "output_type": "stream",
     "text": [
      "Model 1 Prediction : 2\n",
      "Model 2 Prediction : 1\n",
      "Model 3 Prediction : 2\n",
      "Ensemble Prediction(final) : 2\n",
      "\n",
      "\n",
      "This is MNIST Image! Start Predict...\n"
     ]
    },
    {
     "data": {
      "image/png": "[encoded data removed]",
      "text/plain": [
       "<Figure size 432x288 with 1 Axes>"
      ]
     },
     "metadata": {
      "needs_background": "light"
     },
     "output_type": "display_data"
    },
    {
     "name": "stdout",
     "output_type": "stream",
     "text": [
      "Model 1 Prediction : 2\n",
      "Model 2 Prediction : 5\n",
      "Model 3 Prediction : 5\n",
      "Ensemble Prediction(final) : 5\n",
      "\n",
      "\n",
      "This is MNIST Image! Start Predict...\n"
     ]
    },
    {
     "data": {
      "image/png": "[encoded data removed]",
      "text/plain": [
       "<Figure size 432x288 with 1 Axes>"
      ]
     },
     "metadata": {
      "needs_background": "light"
     },
     "output_type": "display_data"
    },
    {
     "name": "stdout",
     "output_type": "stream",
     "text": [
      "Model 1 Prediction : 2\n",
      "Model 2 Prediction : 5\n",
      "Model 3 Prediction : 5\n",
      "Ensemble Prediction(final) : 5\n",
      "\n",
      "\n",
      "This is MNIST Image! Start Predict...\n"
     ]
    },
    {
     "data": {
      "image/png": "[encoded data removed]",
      "text/plain": [
       "<Figure size 432x288 with 1 Axes>"
      ]
     },
     "metadata": {
      "needs_background": "light"
     },
     "output_type": "display_data"
    },
    {
     "name": "stdout",
     "output_type": "stream",
     "text": [
      "Model 1 Prediction : 2\n",
      "Model 2 Prediction : 2\n",
      "Model 3 Prediction : 2\n",
      "Ensemble Prediction(final) : 2\n",
      "\n",
      "\n",
      "This is not MNIST Image\n",
      "\n",
      "\n",
      "This is MNIST Image! Start Predict...\n"
     ]
    },
    {
     "data": {
      "image/png": "[encoded data removed]",
      "text/plain": [
       "<Figure size 432x288 with 1 Axes>"
      ]
     },
     "metadata": {
      "needs_background": "light"
     },
     "output_type": "display_data"
    },
    {
     "name": "stdout",
     "output_type": "stream",
     "text": [
      "Model 1 Prediction : 1\n",
      "Model 2 Prediction : 1\n",
      "Model 3 Prediction : 1\n",
      "Ensemble Prediction(final) : 1\n",
      "\n",
      "\n",
      "This is MNIST Image! Start Predict...\n"
     ]
    },
    {
     "data": {
      "image/png": "[encoded data removed]",
      "text/plain": [
       "<Figure size 432x288 with 1 Axes>"
      ]
     },
     "metadata": {
      "needs_background": "light"
     },
     "output_type": "display_data"
    },
    {
     "name": "stdout",
     "output_type": "stream",
     "text": [
      "Model 1 Prediction : 2\n",
      "Model 2 Prediction : 2\n",
      "Model 3 Prediction : 2\n",
      "Ensemble Prediction(final) : 2\n",
      "\n",
      "\n",
      "This is MNIST Image! Start Predict...\n"
     ]
    },
    {
     "data": {
      "image/png": "[encoded data removed]",
      "text/plain": [
       "<Figure size 432x288 with 1 Axes>"
      ]
     },
     "metadata": {
      "needs_background": "light"
     },
     "output_type": "display_data"
    },
    {
     "name": "stdout",
     "output_type": "stream",
     "text": [
      "Model 1 Prediction : 2\n",
      "Model 2 Prediction : 1\n",
      "Model 3 Prediction : 1\n",
      "Ensemble Prediction(final) : 1\n",
      "\n",
      "\n",
      "This is not MNIST Image\n",
      "\n",
      "\n",
      "This is MNIST Image! Start Predict...\n"
     ]
    },
    {
     "data": {
      "image/png": "[encoded data removed]",
      "text/plain": [
       "<Figure size 432x288 with 1 Axes>"
      ]
     },
     "metadata": {
      "needs_background": "light"
     },
     "output_type": "display_data"
    },
    {
     "name": "stdout",
     "output_type": "stream",
     "text": [
      "Model 1 Prediction : 2\n",
      "Model 2 Prediction : 2\n",
      "Model 3 Prediction : 1\n",
      "Ensemble Prediction(final) : 2\n",
      "\n",
      "\n",
      "This is MNIST Image! Start Predict...\n"
     ]
    },
    {
     "data": {
      "image/png": "[encoded data removed]",
      "text/plain": [
       "<Figure size 432x288 with 1 Axes>"
      ]
     },
     "metadata": {
      "needs_background": "light"
     },
     "output_type": "display_data"
    },
    {
     "name": "stdout",
     "output_type": "stream",
     "text": [
      "Model 1 Prediction : 2\n",
      "Model 2 Prediction : 2\n",
      "Model 3 Prediction : 1\n",
      "Ensemble Prediction(final) : 2\n",
      "\n",
      "\n",
      "This is not MNIST Image\n",
      "\n",
      "\n",
      "This is MNIST Image! Start Predict...\n"
     ]
    },
    {
     "data": {
      "image/png": "[encoded data removed]",
      "text/plain": [
       "<Figure size 432x288 with 1 Axes>"
      ]
     },
     "metadata": {
      "needs_background": "light"
     },
     "output_type": "display_data"
    },
    {
     "name": "stdout",
     "output_type": "stream",
     "text": [
      "Model 1 Prediction : 3\n",
      "Model 2 Prediction : 3\n",
      "Model 3 Prediction : 3\n",
      "Ensemble Prediction(final) : 3\n",
      "\n",
      "\n",
      "This is MNIST Image! Start Predict...\n"
     ]
    },
    {
     "data": {
      "image/png": "[encoded data removed]",
      "text/plain": [
       "<Figure size 432x288 with 1 Axes>"
      ]
     },
     "metadata": {
      "needs_background": "light"
     },
     "output_type": "display_data"
    },
    {
     "name": "stdout",
     "output_type": "stream",
     "text": [
      "Model 1 Prediction : 3\n",
      "Model 2 Prediction : 3\n",
      "Model 3 Prediction : 3\n",
      "Ensemble Prediction(final) : 3\n",
      "\n",
      "\n",
      "This is not MNIST Image\n",
      "\n",
      "\n",
      "This is not MNIST Image\n",
      "\n",
      "\n",
      "This is MNIST Image! Start Predict...\n"
     ]
    },
    {
     "data": {
      "image/png": "[encoded data removed]",
      "text/plain": [
       "<Figure size 432x288 with 1 Axes>"
      ]
     },
     "metadata": {
      "needs_background": "light"
     },
     "output_type": "display_data"
    },
    {
     "name": "stdout",
     "output_type": "stream",
     "text": [
      "Model 1 Prediction : 3\n",
      "Model 2 Prediction : 3\n",
      "Model 3 Prediction : 3\n",
      "Ensemble Prediction(final) : 3\n"
     ]
    },
    {
     "name": "stderr",
     "output_type": "stream",
     "text": [
      "WARNING:socketIO-client:127.0.0.1:3000/socket.io [connection error] recv disconnected (Connection is already closed.)\n",
      "WARNING:socketIO-client:127.0.0.1:3000/socket.io [engine.io waiting for connection] HTTPConnectionPool(host='127.0.0.1', port=3000): Max retries exceeded with url: /socket.io/?EIO=3&transport=polling&t=1544783400228-0 (Caused by NewConnectionError('<urllib3.connection.HTTPConnection object at 0x1c57c890f0>: Failed to establish a new connection: [Errno 61] Connection refused',))\n",
      "WARNING:socketIO-client:127.0.0.1:3000/socket.io [engine.io waiting for connection] HTTPConnectionPool(host='127.0.0.1', port=3000): Max retries exceeded with url: /socket.io/?EIO=3&transport=polling&t=1544783401232-0 (Caused by NewConnectionError('<urllib3.connection.HTTPConnection object at 0x1c4f58cb70>: Failed to establish a new connection: [Errno 61] Connection refused',))\n",
      "WARNING:socketIO-client:127.0.0.1:3000/socket.io [engine.io waiting for connection] HTTPConnectionPool(host='127.0.0.1', port=3000): Max retries exceeded with url: /socket.io/?EIO=3&transport=polling&t=1544783402239-0 (Caused by NewConnectionError('<urllib3.connection.HTTPConnection object at 0x1c4f4dc3c8>: Failed to establish a new connection: [Errno 61] Connection refused',))\n",
      "WARNING:socketIO-client:127.0.0.1:3000/socket.io [engine.io waiting for connection] HTTPConnectionPool(host='127.0.0.1', port=3000): Max retries exceeded with url: /socket.io/?EIO=3&transport=polling&t=1544783403243-0 (Caused by NewConnectionError('<urllib3.connection.HTTPConnection object at 0x1c4f4dcb38>: Failed to establish a new connection: [Errno 61] Connection refused',))\n",
      "WARNING:socketIO-client:127.0.0.1:3000/socket.io [engine.io waiting for connection] HTTPConnectionPool(host='127.0.0.1', port=3000): Max retries exceeded with url: /socket.io/?EIO=3&transport=polling&t=1544783404246-0 (Caused by NewConnectionError('<urllib3.connection.HTTPConnection object at 0x1c4f601ef0>: Failed to establish a new connection: [Errno 61] Connection refused',))\n",
      "WARNING:socketIO-client:127.0.0.1:3000/socket.io [engine.io waiting for connection] HTTPConnectionPool(host='127.0.0.1', port=3000): Max retries exceeded with url: /socket.io/?EIO=3&transport=polling&t=1544783405249-0 (Caused by NewConnectionError('<urllib3.connection.HTTPConnection object at 0x1c4f601c50>: Failed to establish a new connection: [Errno 61] Connection refused',))\n",
      "WARNING:socketIO-client:127.0.0.1:3000/socket.io [engine.io waiting for connection] HTTPConnectionPool(host='127.0.0.1', port=3000): Max retries exceeded with url: /socket.io/?EIO=3&transport=polling&t=1544783406254-0 (Caused by NewConnectionError('<urllib3.connection.HTTPConnection object at 0x1c4f4dc400>: Failed to establish a new connection: [Errno 61] Connection refused',))\n",
      "WARNING:socketIO-client:127.0.0.1:3000/socket.io [engine.io waiting for connection] HTTPConnectionPool(host='127.0.0.1', port=3000): Max retries exceeded with url: /socket.io/?EIO=3&transport=polling&t=1544783407260-0 (Caused by NewConnectionError('<urllib3.connection.HTTPConnection object at 0x1c51087ef0>: Failed to establish a new connection: [Errno 61] Connection refused',))\n",
      "WARNING:socketIO-client:127.0.0.1:3000/socket.io [engine.io waiting for connection] HTTPConnectionPool(host='127.0.0.1', port=3000): Max retries exceeded with url: /socket.io/?EIO=3&transport=polling&t=1544783408264-0 (Caused by NewConnectionError('<urllib3.connection.HTTPConnection object at 0x1c4f58cc50>: Failed to establish a new connection: [Errno 61] Connection refused',))\n",
      "WARNING:socketIO-client:127.0.0.1:3000/socket.io [engine.io waiting for connection] HTTPConnectionPool(host='127.0.0.1', port=3000): Max retries exceeded with url: /socket.io/?EIO=3&transport=polling&t=1544783409273-0 (Caused by NewConnectionError('<urllib3.connection.HTTPConnection object at 0x1c4f58c3c8>: Failed to establish a new connection: [Errno 61] Connection refused',))\n",
      "WARNING:socketIO-client:127.0.0.1:3000/socket.io [engine.io waiting for connection] HTTPConnectionPool(host='127.0.0.1', port=3000): Max retries exceeded with url: /socket.io/?EIO=3&transport=polling&t=1544783410278-0 (Caused by NewConnectionError('<urllib3.connection.HTTPConnection object at 0x1c4f601da0>: Failed to establish a new connection: [Errno 61] Connection refused',))\n",
      "WARNING:socketIO-client:127.0.0.1:3000/socket.io [engine.io waiting for connection] HTTPConnectionPool(host='127.0.0.1', port=3000): Max retries exceeded with url: /socket.io/?EIO=3&transport=polling&t=1544783411287-0 (Caused by NewConnectionError('<urllib3.connection.HTTPConnection object at 0x1c52bc6e48>: Failed to establish a new connection: [Errno 61] Connection refused',))\n",
      "WARNING:socketIO-client:127.0.0.1:3000/socket.io [engine.io waiting for connection] HTTPConnectionPool(host='127.0.0.1', port=3000): Max retries exceeded with url: /socket.io/?EIO=3&transport=polling&t=1544783412293-0 (Caused by NewConnectionError('<urllib3.connection.HTTPConnection object at 0x1c52bc6780>: Failed to establish a new connection: [Errno 61] Connection refused',))\n",
      "WARNING:socketIO-client:127.0.0.1:3000/socket.io [engine.io waiting for connection] HTTPConnectionPool(host='127.0.0.1', port=3000): Max retries exceeded with url: /socket.io/?EIO=3&transport=polling&t=1544783413300-0 (Caused by NewConnectionError('<urllib3.connection.HTTPConnection object at 0x1c52bc6278>: Failed to establish a new connection: [Errno 61] Connection refused',))\n",
      "WARNING:socketIO-client:127.0.0.1:3000/socket.io [engine.io waiting for connection] HTTPConnectionPool(host='127.0.0.1', port=3000): Max retries exceeded with url: /socket.io/?EIO=3&transport=polling&t=1544783414306-0 (Caused by NewConnectionError('<urllib3.connection.HTTPConnection object at 0x18435a5780>: Failed to establish a new connection: [Errno 61] Connection refused',))\n",
      "WARNING:socketIO-client:127.0.0.1:3000/socket.io [engine.io waiting for connection] HTTPConnectionPool(host='127.0.0.1', port=3000): Max retries exceeded with url: /socket.io/?EIO=3&transport=polling&t=1544783415313-0 (Caused by NewConnectionError('<urllib3.connection.HTTPConnection object at 0x1c53b64e80>: Failed to establish a new connection: [Errno 61] Connection refused',))\n",
      "WARNING:socketIO-client:127.0.0.1:3000/socket.io [engine.io waiting for connection] HTTPConnectionPool(host='127.0.0.1', port=3000): Max retries exceeded with url: /socket.io/?EIO=3&transport=polling&t=1544783416318-0 (Caused by NewConnectionError('<urllib3.connection.HTTPConnection object at 0x1c52bc68d0>: Failed to establish a new connection: [Errno 61] Connection refused',))\n",
      "WARNING:socketIO-client:127.0.0.1:3000/socket.io [engine.io waiting for connection] HTTPConnectionPool(host='127.0.0.1', port=3000): Max retries exceeded with url: /socket.io/?EIO=3&transport=polling&t=1544783417323-0 (Caused by NewConnectionError('<urllib3.connection.HTTPConnection object at 0x1c52bc62e8>: Failed to establish a new connection: [Errno 61] Connection refused',))\n",
      "WARNING:socketIO-client:127.0.0.1:3000/socket.io [engine.io waiting for connection] HTTPConnectionPool(host='127.0.0.1', port=3000): Max retries exceeded with url: /socket.io/?EIO=3&transport=polling&t=1544783418328-0 (Caused by NewConnectionError('<urllib3.connection.HTTPConnection object at 0x1c52bc67b8>: Failed to establish a new connection: [Errno 61] Connection refused',))\n",
      "WARNING:socketIO-client:127.0.0.1:3000/socket.io [engine.io waiting for connection] HTTPConnectionPool(host='127.0.0.1', port=3000): Max retries exceeded with url: /socket.io/?EIO=3&transport=polling&t=1544783419338-0 (Caused by NewConnectionError('<urllib3.connection.HTTPConnection object at 0x1c5663c400>: Failed to establish a new connection: [Errno 61] Connection refused',))\n",
      "WARNING:socketIO-client:127.0.0.1:3000/socket.io [engine.io waiting for connection] HTTPConnectionPool(host='127.0.0.1', port=3000): Max retries exceeded with url: /socket.io/?EIO=3&transport=polling&t=1544783420345-0 (Caused by NewConnectionError('<urllib3.connection.HTTPConnection object at 0x1c4f601b00>: Failed to establish a new connection: [Errno 61] Connection refused',))\n",
      "WARNING:socketIO-client:127.0.0.1:3000/socket.io [engine.io waiting for connection] HTTPConnectionPool(host='127.0.0.1', port=3000): Max retries exceeded with url: /socket.io/?EIO=3&transport=polling&t=1544783421350-0 (Caused by NewConnectionError('<urllib3.connection.HTTPConnection object at 0x1c4f58cd30>: Failed to establish a new connection: [Errno 61] Connection refused',))\n"
     ]
    },
    {
     "name": "stderr",
     "output_type": "stream",
     "text": [
      "WARNING:socketIO-client:127.0.0.1:3000/socket.io [engine.io waiting for connection] HTTPConnectionPool(host='127.0.0.1', port=3000): Max retries exceeded with url: /socket.io/?EIO=3&transport=polling&t=1544783422352-0 (Caused by NewConnectionError('<urllib3.connection.HTTPConnection object at 0x1c57b27ef0>: Failed to establish a new connection: [Errno 61] Connection refused',))\n",
      "WARNING:socketIO-client:127.0.0.1:3000/socket.io [engine.io waiting for connection] HTTPConnectionPool(host='127.0.0.1', port=3000): Max retries exceeded with url: /socket.io/?EIO=3&transport=polling&t=1544783423361-0 (Caused by NewConnectionError('<urllib3.connection.HTTPConnection object at 0x1c4f4dc9b0>: Failed to establish a new connection: [Errno 61] Connection refused',))\n",
      "WARNING:socketIO-client:127.0.0.1:3000/socket.io [engine.io waiting for connection] HTTPConnectionPool(host='127.0.0.1', port=3000): Max retries exceeded with url: /socket.io/?EIO=3&transport=polling&t=1544783424367-0 (Caused by NewConnectionError('<urllib3.connection.HTTPConnection object at 0x1c4f4dc860>: Failed to establish a new connection: [Errno 61] Connection refused',))\n",
      "WARNING:socketIO-client:127.0.0.1:3000/socket.io [engine.io waiting for connection] HTTPConnectionPool(host='127.0.0.1', port=3000): Max retries exceeded with url: /socket.io/?EIO=3&transport=polling&t=1544783425371-0 (Caused by NewConnectionError('<urllib3.connection.HTTPConnection object at 0x1c53b64278>: Failed to establish a new connection: [Errno 61] Connection refused',))\n",
      "WARNING:socketIO-client:127.0.0.1:3000/socket.io [engine.io waiting for connection] HTTPConnectionPool(host='127.0.0.1', port=3000): Max retries exceeded with url: /socket.io/?EIO=3&transport=polling&t=1544783426375-0 (Caused by NewConnectionError('<urllib3.connection.HTTPConnection object at 0x1c53b645c0>: Failed to establish a new connection: [Errno 61] Connection refused',))\n",
      "WARNING:socketIO-client:127.0.0.1:3000/socket.io [engine.io waiting for connection] HTTPConnectionPool(host='127.0.0.1', port=3000): Max retries exceeded with url: /socket.io/?EIO=3&transport=polling&t=1544783427378-0 (Caused by NewConnectionError('<urllib3.connection.HTTPConnection object at 0x1c52bdbeb8>: Failed to establish a new connection: [Errno 61] Connection refused',))\n",
      "WARNING:socketIO-client:127.0.0.1:3000/socket.io [engine.io waiting for connection] HTTPConnectionPool(host='127.0.0.1', port=3000): Max retries exceeded with url: /socket.io/?EIO=3&transport=polling&t=1544783428382-0 (Caused by NewConnectionError('<urllib3.connection.HTTPConnection object at 0x1c53b64a58>: Failed to establish a new connection: [Errno 61] Connection refused',))\n",
      "WARNING:socketIO-client:127.0.0.1:3000/socket.io [engine.io waiting for connection] HTTPConnectionPool(host='127.0.0.1', port=3000): Max retries exceeded with url: /socket.io/?EIO=3&transport=polling&t=1544783429387-0 (Caused by NewConnectionError('<urllib3.connection.HTTPConnection object at 0x1c4f584630>: Failed to establish a new connection: [Errno 61] Connection refused',))\n",
      "WARNING:socketIO-client:127.0.0.1:3000/socket.io [engine.io waiting for connection] HTTPConnectionPool(host='127.0.0.1', port=3000): Max retries exceeded with url: /socket.io/?EIO=3&transport=polling&t=1544783430396-0 (Caused by NewConnectionError('<urllib3.connection.HTTPConnection object at 0x1c4f4dc198>: Failed to establish a new connection: [Errno 61] Connection refused',))\n",
      "WARNING:socketIO-client:127.0.0.1:3000/socket.io [engine.io waiting for connection] HTTPConnectionPool(host='127.0.0.1', port=3000): Max retries exceeded with url: /socket.io/?EIO=3&transport=polling&t=1544783431403-0 (Caused by NewConnectionError('<urllib3.connection.HTTPConnection object at 0x1c51087d68>: Failed to establish a new connection: [Errno 61] Connection refused',))\n",
      "WARNING:socketIO-client:127.0.0.1:3000/socket.io [engine.io waiting for connection] HTTPConnectionPool(host='127.0.0.1', port=3000): Max retries exceeded with url: /socket.io/?EIO=3&transport=polling&t=1544783432410-0 (Caused by NewConnectionError('<urllib3.connection.HTTPConnection object at 0x1c4f58c198>: Failed to establish a new connection: [Errno 61] Connection refused',))\n",
      "WARNING:socketIO-client:127.0.0.1:3000/socket.io [engine.io waiting for connection] HTTPConnectionPool(host='127.0.0.1', port=3000): Max retries exceeded with url: /socket.io/?EIO=3&transport=polling&t=1544783433417-0 (Caused by NewConnectionError('<urllib3.connection.HTTPConnection object at 0x1c4f601860>: Failed to establish a new connection: [Errno 61] Connection refused',))\n",
      "WARNING:socketIO-client:127.0.0.1:3000/socket.io [engine.io waiting for connection] HTTPConnectionPool(host='127.0.0.1', port=3000): Max retries exceeded with url: /socket.io/?EIO=3&transport=polling&t=1544783434422-0 (Caused by NewConnectionError('<urllib3.connection.HTTPConnection object at 0x1c5663c588>: Failed to establish a new connection: [Errno 61] Connection refused',))\n",
      "WARNING:socketIO-client:127.0.0.1:3000/socket.io [engine.io waiting for connection] HTTPConnectionPool(host='127.0.0.1', port=3000): Max retries exceeded with url: /socket.io/?EIO=3&transport=polling&t=1544783435429-0 (Caused by NewConnectionError('<urllib3.connection.HTTPConnection object at 0x1c52bc60b8>: Failed to establish a new connection: [Errno 61] Connection refused',))\n",
      "WARNING:socketIO-client:127.0.0.1:3000/socket.io [engine.io waiting for connection] HTTPConnectionPool(host='127.0.0.1', port=3000): Max retries exceeded with url: /socket.io/?EIO=3&transport=polling&t=1544783436436-0 (Caused by NewConnectionError('<urllib3.connection.HTTPConnection object at 0x1c52bc6be0>: Failed to establish a new connection: [Errno 61] Connection refused',))\n",
      "WARNING:socketIO-client:127.0.0.1:3000/socket.io [engine.io waiting for connection] HTTPConnectionPool(host='127.0.0.1', port=3000): Max retries exceeded with url: /socket.io/?EIO=3&transport=polling&t=1544783437443-0 (Caused by NewConnectionError('<urllib3.connection.HTTPConnection object at 0x1c4f4dc080>: Failed to establish a new connection: [Errno 61] Connection refused',))\n",
      "WARNING:socketIO-client:127.0.0.1:3000/socket.io [engine.io waiting for connection] HTTPConnectionPool(host='127.0.0.1', port=3000): Max retries exceeded with url: /socket.io/?EIO=3&transport=polling&t=1544783438447-0 (Caused by NewConnectionError('<urllib3.connection.HTTPConnection object at 0x1c52bc6c50>: Failed to establish a new connection: [Errno 61] Connection refused',))\n",
      "WARNING:socketIO-client:127.0.0.1:3000/socket.io [engine.io waiting for connection] HTTPConnectionPool(host='127.0.0.1', port=3000): Max retries exceeded with url: /socket.io/?EIO=3&transport=polling&t=1544783439452-0 (Caused by NewConnectionError('<urllib3.connection.HTTPConnection object at 0x1c52bdb3c8>: Failed to establish a new connection: [Errno 61] Connection refused',))\n",
      "WARNING:socketIO-client:127.0.0.1:3000/socket.io [engine.io waiting for connection] HTTPConnectionPool(host='127.0.0.1', port=3000): Max retries exceeded with url: /socket.io/?EIO=3&transport=polling&t=1544783440461-0 (Caused by NewConnectionError('<urllib3.connection.HTTPConnection object at 0x1c52bc6b00>: Failed to establish a new connection: [Errno 61] Connection refused',))\n",
      "WARNING:socketIO-client:127.0.0.1:3000/socket.io [engine.io waiting for connection] HTTPConnectionPool(host='127.0.0.1', port=3000): Max retries exceeded with url: /socket.io/?EIO=3&transport=polling&t=1544783441469-0 (Caused by NewConnectionError('<urllib3.connection.HTTPConnection object at 0x1c52bc66d8>: Failed to establish a new connection: [Errno 61] Connection refused',))\n",
      "WARNING:socketIO-client:127.0.0.1:3000/socket.io [engine.io waiting for connection] HTTPConnectionPool(host='127.0.0.1', port=3000): Max retries exceeded with url: /socket.io/?EIO=3&transport=polling&t=1544783442476-0 (Caused by NewConnectionError('<urllib3.connection.HTTPConnection object at 0x1c5663c320>: Failed to establish a new connection: [Errno 61] Connection refused',))\n",
      "WARNING:socketIO-client:127.0.0.1:3000/socket.io [engine.io waiting for connection] HTTPConnectionPool(host='127.0.0.1', port=3000): Max retries exceeded with url: /socket.io/?EIO=3&transport=polling&t=1544783443481-0 (Caused by NewConnectionError('<urllib3.connection.HTTPConnection object at 0x1c4f601ba8>: Failed to establish a new connection: [Errno 61] Connection refused',))\n"
     ]
    },
    {
     "name": "stderr",
     "output_type": "stream",
     "text": [
      "WARNING:socketIO-client:127.0.0.1:3000/socket.io [engine.io waiting for connection] HTTPConnectionPool(host='127.0.0.1', port=3000): Max retries exceeded with url: /socket.io/?EIO=3&transport=polling&t=1544783444490-0 (Caused by NewConnectionError('<urllib3.connection.HTTPConnection object at 0x1c576071d0>: Failed to establish a new connection: [Errno 61] Connection refused',))\n",
      "WARNING:socketIO-client:127.0.0.1:3000/socket.io [engine.io waiting for connection] HTTPConnectionPool(host='127.0.0.1', port=3000): Max retries exceeded with url: /socket.io/?EIO=3&transport=polling&t=1544783445495-0 (Caused by NewConnectionError('<urllib3.connection.HTTPConnection object at 0x1c4f58cd30>: Failed to establish a new connection: [Errno 61] Connection refused',))\n",
      "WARNING:socketIO-client:127.0.0.1:3000/socket.io [engine.io waiting for connection] HTTPConnectionPool(host='127.0.0.1', port=3000): Max retries exceeded with url: /socket.io/?EIO=3&transport=polling&t=1544783446503-0 (Caused by NewConnectionError('<urllib3.connection.HTTPConnection object at 0x1c51087eb8>: Failed to establish a new connection: [Errno 61] Connection refused',))\n",
      "WARNING:socketIO-client:127.0.0.1:3000/socket.io [engine.io waiting for connection] HTTPConnectionPool(host='127.0.0.1', port=3000): Max retries exceeded with url: /socket.io/?EIO=3&transport=polling&t=1544783447511-0 (Caused by NewConnectionError('<urllib3.connection.HTTPConnection object at 0x1c4f4dc400>: Failed to establish a new connection: [Errno 61] Connection refused',))\n",
      "WARNING:socketIO-client:127.0.0.1:3000/socket.io [engine.io waiting for connection] HTTPConnectionPool(host='127.0.0.1', port=3000): Max retries exceeded with url: /socket.io/?EIO=3&transport=polling&t=1544783448517-0 (Caused by NewConnectionError('<urllib3.connection.HTTPConnection object at 0x1c53b644e0>: Failed to establish a new connection: [Errno 61] Connection refused',))\n",
      "WARNING:socketIO-client:127.0.0.1:3000/socket.io [engine.io waiting for connection] HTTPConnectionPool(host='127.0.0.1', port=3000): Max retries exceeded with url: /socket.io/?EIO=3&transport=polling&t=1544783449524-0 (Caused by NewConnectionError('<urllib3.connection.HTTPConnection object at 0x1c53b645f8>: Failed to establish a new connection: [Errno 61] Connection refused',))\n",
      "WARNING:socketIO-client:127.0.0.1:3000/socket.io [engine.io waiting for connection] HTTPConnectionPool(host='127.0.0.1', port=3000): Max retries exceeded with url: /socket.io/?EIO=3&transport=polling&t=1544783450529-0 (Caused by NewConnectionError('<urllib3.connection.HTTPConnection object at 0x1c52bdb2e8>: Failed to establish a new connection: [Errno 61] Connection refused',))\n",
      "WARNING:socketIO-client:127.0.0.1:3000/socket.io [engine.io waiting for connection] HTTPConnectionPool(host='127.0.0.1', port=3000): Max retries exceeded with url: /socket.io/?EIO=3&transport=polling&t=1544783451537-0 (Caused by NewConnectionError('<urllib3.connection.HTTPConnection object at 0x1c52bdb5f8>: Failed to establish a new connection: [Errno 61] Connection refused',))\n",
      "WARNING:socketIO-client:127.0.0.1:3000/socket.io [engine.io waiting for connection] HTTPConnectionPool(host='127.0.0.1', port=3000): Max retries exceeded with url: /socket.io/?EIO=3&transport=polling&t=1544783452544-0 (Caused by NewConnectionError('<urllib3.connection.HTTPConnection object at 0x1c53b64ef0>: Failed to establish a new connection: [Errno 61] Connection refused',))\n",
      "WARNING:socketIO-client:127.0.0.1:3000/socket.io [engine.io waiting for connection] HTTPConnectionPool(host='127.0.0.1', port=3000): Max retries exceeded with url: /socket.io/?EIO=3&transport=polling&t=1544783453548-0 (Caused by NewConnectionError('<urllib3.connection.HTTPConnection object at 0x1c53b644e0>: Failed to establish a new connection: [Errno 61] Connection refused',))\n",
      "WARNING:socketIO-client:127.0.0.1:3000/socket.io [engine.io waiting for connection] HTTPConnectionPool(host='127.0.0.1', port=3000): Max retries exceeded with url: /socket.io/?EIO=3&transport=polling&t=1544783454553-0 (Caused by NewConnectionError('<urllib3.connection.HTTPConnection object at 0x1c4f4dc400>: Failed to establish a new connection: [Errno 61] Connection refused',))\n",
      "WARNING:socketIO-client:127.0.0.1:3000/socket.io [engine.io waiting for connection] HTTPConnectionPool(host='127.0.0.1', port=3000): Max retries exceeded with url: /socket.io/?EIO=3&transport=polling&t=1544783455558-0 (Caused by NewConnectionError('<urllib3.connection.HTTPConnection object at 0x1c51087978>: Failed to establish a new connection: [Errno 61] Connection refused',))\n",
      "WARNING:socketIO-client:127.0.0.1:3000/socket.io [engine.io waiting for connection] HTTPConnectionPool(host='127.0.0.1', port=3000): Max retries exceeded with url: /socket.io/?EIO=3&transport=polling&t=1544783456563-0 (Caused by NewConnectionError('<urllib3.connection.HTTPConnection object at 0x1c4f58ca58>: Failed to establish a new connection: [Errno 61] Connection refused',))\n",
      "WARNING:socketIO-client:127.0.0.1:3000/socket.io [engine.io waiting for connection] HTTPConnectionPool(host='127.0.0.1', port=3000): Max retries exceeded with url: /socket.io/?EIO=3&transport=polling&t=1544783457572-0 (Caused by NewConnectionError('<urllib3.connection.HTTPConnection object at 0x1c510874e0>: Failed to establish a new connection: [Errno 61] Connection refused',))\n",
      "WARNING:socketIO-client:127.0.0.1:3000/socket.io [engine.io waiting for connection] HTTPConnectionPool(host='127.0.0.1', port=3000): Max retries exceeded with url: /socket.io/?EIO=3&transport=polling&t=1544783458578-0 (Caused by NewConnectionError('<urllib3.connection.HTTPConnection object at 0x1c4f58cd30>: Failed to establish a new connection: [Errno 61] Connection refused',))\n",
      "WARNING:socketIO-client:127.0.0.1:3000/socket.io [engine.io waiting for connection] HTTPConnectionPool(host='127.0.0.1', port=3000): Max retries exceeded with url: /socket.io/?EIO=3&transport=polling&t=1544783459587-0 (Caused by NewConnectionError('<urllib3.connection.HTTPConnection object at 0x1c5663c240>: Failed to establish a new connection: [Errno 61] Connection refused',))\n",
      "WARNING:socketIO-client:127.0.0.1:3000/socket.io [engine.io waiting for connection] HTTPConnectionPool(host='127.0.0.1', port=3000): Max retries exceeded with url: /socket.io/?EIO=3&transport=polling&t=1544783460593-0 (Caused by NewConnectionError('<urllib3.connection.HTTPConnection object at 0x1c5663c4a8>: Failed to establish a new connection: [Errno 61] Connection refused',))\n",
      "WARNING:socketIO-client:127.0.0.1:3000/socket.io [engine.io waiting for connection] HTTPConnectionPool(host='127.0.0.1', port=3000): Max retries exceeded with url: /socket.io/?EIO=3&transport=polling&t=1544783461596-0 (Caused by NewConnectionError('<urllib3.connection.HTTPConnection object at 0x1c52bc6080>: Failed to establish a new connection: [Errno 61] Connection refused',))\n",
      "WARNING:socketIO-client:127.0.0.1:3000/socket.io [engine.io waiting for connection] HTTPConnectionPool(host='127.0.0.1', port=3000): Max retries exceeded with url: /socket.io/?EIO=3&transport=polling&t=1544783462599-0 (Caused by NewConnectionError('<urllib3.connection.HTTPConnection object at 0x1c52bc6cf8>: Failed to establish a new connection: [Errno 61] Connection refused',))\n",
      "WARNING:socketIO-client:127.0.0.1:3000/socket.io [engine.io waiting for connection] HTTPConnectionPool(host='127.0.0.1', port=3000): Max retries exceeded with url: /socket.io/?EIO=3&transport=polling&t=1544783463606-0 (Caused by NewConnectionError('<urllib3.connection.HTTPConnection object at 0x1c53e9b400>: Failed to establish a new connection: [Errno 61] Connection refused',))\n",
      "WARNING:socketIO-client:127.0.0.1:3000/socket.io [engine.io waiting for connection] HTTPConnectionPool(host='127.0.0.1', port=3000): Max retries exceeded with url: /socket.io/?EIO=3&transport=polling&t=1544783464612-0 (Caused by NewConnectionError('<urllib3.connection.HTTPConnection object at 0x1c52bc6080>: Failed to establish a new connection: [Errno 61] Connection refused',))\n",
      "WARNING:socketIO-client:127.0.0.1:3000/socket.io [engine.io waiting for connection] HTTPConnectionPool(host='127.0.0.1', port=3000): Max retries exceeded with url: /socket.io/?EIO=3&transport=polling&t=1544783465615-0 (Caused by NewConnectionError('<urllib3.connection.HTTPConnection object at 0x1c52bc67b8>: Failed to establish a new connection: [Errno 61] Connection refused',))\n"
     ]
    },
    {
     "name": "stderr",
     "output_type": "stream",
     "text": [
      "WARNING:socketIO-client:127.0.0.1:3000/socket.io [engine.io waiting for connection] HTTPConnectionPool(host='127.0.0.1', port=3000): Max retries exceeded with url: /socket.io/?EIO=3&transport=polling&t=1544783466619-0 (Caused by NewConnectionError('<urllib3.connection.HTTPConnection object at 0x1c5663c400>: Failed to establish a new connection: [Errno 61] Connection refused',))\n",
      "WARNING:socketIO-client:127.0.0.1:3000/socket.io [engine.io waiting for connection] HTTPConnectionPool(host='127.0.0.1', port=3000): Max retries exceeded with url: /socket.io/?EIO=3&transport=polling&t=1544783467626-0 (Caused by NewConnectionError('<urllib3.connection.HTTPConnection object at 0x1c4f601470>: Failed to establish a new connection: [Errno 61] Connection refused',))\n",
      "WARNING:socketIO-client:127.0.0.1:3000/socket.io [engine.io waiting for connection] HTTPConnectionPool(host='127.0.0.1', port=3000): Max retries exceeded with url: /socket.io/?EIO=3&transport=polling&t=1544783468633-0 (Caused by NewConnectionError('<urllib3.connection.HTTPConnection object at 0x1c4f58c3c8>: Failed to establish a new connection: [Errno 61] Connection refused',))\n",
      "WARNING:socketIO-client:127.0.0.1:3000/socket.io [engine.io waiting for connection] HTTPConnectionPool(host='127.0.0.1', port=3000): Max retries exceeded with url: /socket.io/?EIO=3&transport=polling&t=1544783469639-0 (Caused by NewConnectionError('<urllib3.connection.HTTPConnection object at 0x1c510874e0>: Failed to establish a new connection: [Errno 61] Connection refused',))\n",
      "WARNING:socketIO-client:127.0.0.1:3000/socket.io [engine.io waiting for connection] HTTPConnectionPool(host='127.0.0.1', port=3000): Max retries exceeded with url: /socket.io/?EIO=3&transport=polling&t=1544783470645-0 (Caused by NewConnectionError('<urllib3.connection.HTTPConnection object at 0x1c4f4dcb00>: Failed to establish a new connection: [Errno 61] Connection refused',))\n",
      "WARNING:socketIO-client:127.0.0.1:3000/socket.io [engine.io waiting for connection] HTTPConnectionPool(host='127.0.0.1', port=3000): Max retries exceeded with url: /socket.io/?EIO=3&transport=polling&t=1544783471651-0 (Caused by NewConnectionError('<urllib3.connection.HTTPConnection object at 0x1c4f4dc390>: Failed to establish a new connection: [Errno 61] Connection refused',))\n",
      "WARNING:socketIO-client:127.0.0.1:3000/socket.io [engine.io waiting for connection] HTTPConnectionPool(host='127.0.0.1', port=3000): Max retries exceeded with url: /socket.io/?EIO=3&transport=polling&t=1544783472656-0 (Caused by NewConnectionError('<urllib3.connection.HTTPConnection object at 0x1c53b64f60>: Failed to establish a new connection: [Errno 61] Connection refused',))\n",
      "WARNING:socketIO-client:127.0.0.1:3000/socket.io [engine.io waiting for connection] HTTPConnectionPool(host='127.0.0.1', port=3000): Max retries exceeded with url: /socket.io/?EIO=3&transport=polling&t=1544783473664-0 (Caused by NewConnectionError('<urllib3.connection.HTTPConnection object at 0x1c52bdb240>: Failed to establish a new connection: [Errno 61] Connection refused',))\n",
      "WARNING:socketIO-client:127.0.0.1:3000/socket.io [engine.io waiting for connection] HTTPConnectionPool(host='127.0.0.1', port=3000): Max retries exceeded with url: /socket.io/?EIO=3&transport=polling&t=1544783474669-0 (Caused by NewConnectionError('<urllib3.connection.HTTPConnection object at 0x1c53e9b550>: Failed to establish a new connection: [Errno 61] Connection refused',))\n",
      "WARNING:socketIO-client:127.0.0.1:3000/socket.io [engine.io waiting for connection] HTTPConnectionPool(host='127.0.0.1', port=3000): Max retries exceeded with url: /socket.io/?EIO=3&transport=polling&t=1544783475676-0 (Caused by NewConnectionError('<urllib3.connection.HTTPConnection object at 0x1c53e9be80>: Failed to establish a new connection: [Errno 61] Connection refused',))\n",
      "WARNING:socketIO-client:127.0.0.1:3000/socket.io [engine.io waiting for connection] HTTPConnectionPool(host='127.0.0.1', port=3000): Max retries exceeded with url: /socket.io/?EIO=3&transport=polling&t=1544783476681-0 (Caused by NewConnectionError('<urllib3.connection.HTTPConnection object at 0x1c53b64ef0>: Failed to establish a new connection: [Errno 61] Connection refused',))\n",
      "WARNING:socketIO-client:127.0.0.1:3000/socket.io [engine.io waiting for connection] HTTPConnectionPool(host='127.0.0.1', port=3000): Max retries exceeded with url: /socket.io/?EIO=3&transport=polling&t=1544783477689-0 (Caused by NewConnectionError('<urllib3.connection.HTTPConnection object at 0x1c53b64128>: Failed to establish a new connection: [Errno 61] Connection refused',))\n",
      "WARNING:socketIO-client:127.0.0.1:3000/socket.io [engine.io waiting for connection] HTTPConnectionPool(host='127.0.0.1', port=3000): Max retries exceeded with url: /socket.io/?EIO=3&transport=polling&t=1544783478693-0 (Caused by NewConnectionError('<urllib3.connection.HTTPConnection object at 0x1c4f4dcb38>: Failed to establish a new connection: [Errno 61] Connection refused',))\n",
      "WARNING:socketIO-client:127.0.0.1:3000/socket.io [engine.io waiting for connection] HTTPConnectionPool(host='127.0.0.1', port=3000): Max retries exceeded with url: /socket.io/?EIO=3&transport=polling&t=1544783479701-0 (Caused by NewConnectionError('<urllib3.connection.HTTPConnection object at 0x1c4f4dcb70>: Failed to establish a new connection: [Errno 61] Connection refused',))\n",
      "WARNING:socketIO-client:127.0.0.1:3000/socket.io [engine.io waiting for connection] HTTPConnectionPool(host='127.0.0.1', port=3000): Max retries exceeded with url: /socket.io/?EIO=3&transport=polling&t=1544783480710-0 (Caused by NewConnectionError('<urllib3.connection.HTTPConnection object at 0x1c51087d30>: Failed to establish a new connection: [Errno 61] Connection refused',))\n",
      "WARNING:socketIO-client:127.0.0.1:3000/socket.io [engine.io waiting for connection] HTTPConnectionPool(host='127.0.0.1', port=3000): Max retries exceeded with url: /socket.io/?EIO=3&transport=polling&t=1544783481713-0 (Caused by NewConnectionError('<urllib3.connection.HTTPConnection object at 0x1c4f58c6d8>: Failed to establish a new connection: [Errno 61] Connection refused',))\n",
      "WARNING:socketIO-client:127.0.0.1:3000/socket.io [engine.io waiting for connection] HTTPConnectionPool(host='127.0.0.1', port=3000): Max retries exceeded with url: /socket.io/?EIO=3&transport=polling&t=1544783482717-0 (Caused by NewConnectionError('<urllib3.connection.HTTPConnection object at 0x1c4f601470>: Failed to establish a new connection: [Errno 61] Connection refused',))\n",
      "WARNING:socketIO-client:127.0.0.1:3000/socket.io [engine.io waiting for connection] HTTPConnectionPool(host='127.0.0.1', port=3000): Max retries exceeded with url: /socket.io/?EIO=3&transport=polling&t=1544783483724-0 (Caused by NewConnectionError('<urllib3.connection.HTTPConnection object at 0x1c5663c080>: Failed to establish a new connection: [Errno 61] Connection refused',))\n",
      "WARNING:socketIO-client:127.0.0.1:3000/socket.io [engine.io waiting for connection] HTTPConnectionPool(host='127.0.0.1', port=3000): Max retries exceeded with url: /socket.io/?EIO=3&transport=polling&t=1544783484729-0 (Caused by NewConnectionError('<urllib3.connection.HTTPConnection object at 0x1c52bc6b38>: Failed to establish a new connection: [Errno 61] Connection refused',))\n",
      "WARNING:socketIO-client:127.0.0.1:3000/socket.io [engine.io waiting for connection] HTTPConnectionPool(host='127.0.0.1', port=3000): Max retries exceeded with url: /socket.io/?EIO=3&transport=polling&t=1544783485737-0 (Caused by NewConnectionError('<urllib3.connection.HTTPConnection object at 0x1c52bc69e8>: Failed to establish a new connection: [Errno 61] Connection refused',))\n",
      "WARNING:socketIO-client:127.0.0.1:3000/socket.io [engine.io waiting for connection] HTTPConnectionPool(host='127.0.0.1', port=3000): Max retries exceeded with url: /socket.io/?EIO=3&transport=polling&t=1544783486742-0 (Caused by NewConnectionError('<urllib3.connection.HTTPConnection object at 0x1c53e9b9e8>: Failed to establish a new connection: [Errno 61] Connection refused',))\n",
      "WARNING:socketIO-client:127.0.0.1:3000/socket.io [engine.io waiting for connection] HTTPConnectionPool(host='127.0.0.1', port=3000): Max retries exceeded with url: /socket.io/?EIO=3&transport=polling&t=1544783487751-0 (Caused by NewConnectionError('<urllib3.connection.HTTPConnection object at 0x1c53e9b438>: Failed to establish a new connection: [Errno 61] Connection refused',))\n"
     ]
    },
    {
     "name": "stderr",
     "output_type": "stream",
     "text": [
      "WARNING:socketIO-client:127.0.0.1:3000/socket.io [engine.io waiting for connection] HTTPConnectionPool(host='127.0.0.1', port=3000): Max retries exceeded with url: /socket.io/?EIO=3&transport=polling&t=1544783488754-0 (Caused by NewConnectionError('<urllib3.connection.HTTPConnection object at 0x1c52bc6630>: Failed to establish a new connection: [Errno 61] Connection refused',))\n",
      "WARNING:socketIO-client:127.0.0.1:3000/socket.io [engine.io waiting for connection] HTTPConnectionPool(host='127.0.0.1', port=3000): Max retries exceeded with url: /socket.io/?EIO=3&transport=polling&t=1544783489761-0 (Caused by NewConnectionError('<urllib3.connection.HTTPConnection object at 0x1c52bc6b38>: Failed to establish a new connection: [Errno 61] Connection refused',))\n",
      "WARNING:socketIO-client:127.0.0.1:3000/socket.io [engine.io waiting for connection] HTTPConnectionPool(host='127.0.0.1', port=3000): Max retries exceeded with url: /socket.io/?EIO=3&transport=polling&t=1544783490764-0 (Caused by NewConnectionError('<urllib3.connection.HTTPConnection object at 0x1c5663c2b0>: Failed to establish a new connection: [Errno 61] Connection refused',))\n",
      "WARNING:socketIO-client:127.0.0.1:3000/socket.io [engine.io waiting for connection] HTTPConnectionPool(host='127.0.0.1', port=3000): Max retries exceeded with url: /socket.io/?EIO=3&transport=polling&t=1544783491773-0 (Caused by NewConnectionError('<urllib3.connection.HTTPConnection object at 0x1c4f6010f0>: Failed to establish a new connection: [Errno 61] Connection refused',))\n",
      "WARNING:socketIO-client:127.0.0.1:3000/socket.io [engine.io waiting for connection] HTTPConnectionPool(host='127.0.0.1', port=3000): Max retries exceeded with url: /socket.io/?EIO=3&transport=polling&t=1544783492778-0 (Caused by NewConnectionError('<urllib3.connection.HTTPConnection object at 0x1c4f58cf98>: Failed to establish a new connection: [Errno 61] Connection refused',))\n",
      "WARNING:socketIO-client:127.0.0.1:3000/socket.io [engine.io waiting for connection] HTTPConnectionPool(host='127.0.0.1', port=3000): Max retries exceeded with url: /socket.io/?EIO=3&transport=polling&t=1544783493787-0 (Caused by NewConnectionError('<urllib3.connection.HTTPConnection object at 0x1c51087668>: Failed to establish a new connection: [Errno 61] Connection refused',))\n",
      "WARNING:socketIO-client:127.0.0.1:3000/socket.io [engine.io waiting for connection] HTTPConnectionPool(host='127.0.0.1', port=3000): Max retries exceeded with url: /socket.io/?EIO=3&transport=polling&t=1544783494795-0 (Caused by NewConnectionError('<urllib3.connection.HTTPConnection object at 0x1c4f4dc860>: Failed to establish a new connection: [Errno 61] Connection refused',))\n",
      "WARNING:socketIO-client:127.0.0.1:3000/socket.io [engine.io waiting for connection] HTTPConnectionPool(host='127.0.0.1', port=3000): Max retries exceeded with url: /socket.io/?EIO=3&transport=polling&t=1544783495801-0 (Caused by NewConnectionError('<urllib3.connection.HTTPConnection object at 0x1c4f584b70>: Failed to establish a new connection: [Errno 61] Connection refused',))\n",
      "WARNING:socketIO-client:127.0.0.1:3000/socket.io [engine.io waiting for connection] HTTPConnectionPool(host='127.0.0.1', port=3000): Max retries exceeded with url: /socket.io/?EIO=3&transport=polling&t=1544783496809-0 (Caused by NewConnectionError('<urllib3.connection.HTTPConnection object at 0x1c53b64908>: Failed to establish a new connection: [Errno 61] Connection refused',))\n",
      "WARNING:socketIO-client:127.0.0.1:3000/socket.io [engine.io waiting for connection] HTTPConnectionPool(host='127.0.0.1', port=3000): Max retries exceeded with url: /socket.io/?EIO=3&transport=polling&t=1544783497814-0 (Caused by NewConnectionError('<urllib3.connection.HTTPConnection object at 0x1c52bc6390>: Failed to establish a new connection: [Errno 61] Connection refused',))\n",
      "WARNING:socketIO-client:127.0.0.1:3000/socket.io [engine.io waiting for connection] HTTPConnectionPool(host='127.0.0.1', port=3000): Max retries exceeded with url: /socket.io/?EIO=3&transport=polling&t=1544783498821-0 (Caused by NewConnectionError('<urllib3.connection.HTTPConnection object at 0x1c52bdba20>: Failed to establish a new connection: [Errno 61] Connection refused',))\n",
      "WARNING:socketIO-client:127.0.0.1:3000/socket.io [engine.io waiting for connection] HTTPConnectionPool(host='127.0.0.1', port=3000): Max retries exceeded with url: /socket.io/?EIO=3&transport=polling&t=1544783499829-0 (Caused by NewConnectionError('<urllib3.connection.HTTPConnection object at 0x1c53e9b9e8>: Failed to establish a new connection: [Errno 61] Connection refused',))\n",
      "WARNING:socketIO-client:127.0.0.1:3000/socket.io [engine.io waiting for connection] HTTPConnectionPool(host='127.0.0.1', port=3000): Max retries exceeded with url: /socket.io/?EIO=3&transport=polling&t=1544783500836-0 (Caused by NewConnectionError('<urllib3.connection.HTTPConnection object at 0x1c52bdbe80>: Failed to establish a new connection: [Errno 61] Connection refused',))\n",
      "WARNING:socketIO-client:127.0.0.1:3000/socket.io [engine.io waiting for connection] HTTPConnectionPool(host='127.0.0.1', port=3000): Max retries exceeded with url: /socket.io/?EIO=3&transport=polling&t=1544783501842-0 (Caused by NewConnectionError('<urllib3.connection.HTTPConnection object at 0x1c53b645c0>: Failed to establish a new connection: [Errno 61] Connection refused',))\n",
      "WARNING:socketIO-client:127.0.0.1:3000/socket.io [engine.io waiting for connection] HTTPConnectionPool(host='127.0.0.1', port=3000): Max retries exceeded with url: /socket.io/?EIO=3&transport=polling&t=1544783502850-0 (Caused by NewConnectionError('<urllib3.connection.HTTPConnection object at 0x1c53b64278>: Failed to establish a new connection: [Errno 61] Connection refused',))\n",
      "WARNING:socketIO-client:127.0.0.1:3000/socket.io [engine.io waiting for connection] HTTPConnectionPool(host='127.0.0.1', port=3000): Max retries exceeded with url: /socket.io/?EIO=3&transport=polling&t=1544783503853-0 (Caused by NewConnectionError('<urllib3.connection.HTTPConnection object at 0x1c4f4dce48>: Failed to establish a new connection: [Errno 61] Connection refused',))\n",
      "WARNING:socketIO-client:127.0.0.1:3000/socket.io [engine.io waiting for connection] HTTPConnectionPool(host='127.0.0.1', port=3000): Max retries exceeded with url: /socket.io/?EIO=3&transport=polling&t=1544783504862-0 (Caused by NewConnectionError('<urllib3.connection.HTTPConnection object at 0x1c51087fd0>: Failed to establish a new connection: [Errno 61] Connection refused',))\n",
      "WARNING:socketIO-client:127.0.0.1:3000/socket.io [engine.io waiting for connection] HTTPConnectionPool(host='127.0.0.1', port=3000): Max retries exceeded with url: /socket.io/?EIO=3&transport=polling&t=1544783505866-0 (Caused by NewConnectionError('<urllib3.connection.HTTPConnection object at 0x1c4f58c3c8>: Failed to establish a new connection: [Errno 61] Connection refused',))\n"
     ]
    }
   ],
   "source": [
    "sock= SocketIO('127.0.0.1', 3000, LoggingNamespace) \n",
    "sock.connect()\n",
    "\n",
    "sock.on(EVENT_CODE,receive)\n",
    "sock.wait(seconds=1000)"
   ]
  },
  {
   "cell_type": "code",
   "execution_count": null,
   "metadata": {},
   "outputs": [],
   "source": []
  }
 ],
 "metadata": {
  "kernelspec": {
   "display_name": "Python 3",
   "language": "python",
   "name": "python3"
  },
  "language_info": {
   "codemirror_mode": {
    "name": "ipython",
    "version": 3
   },
   "file_extension": ".py",
   "mimetype": "text/x-python",
   "name": "python",
   "nbconvert_exporter": "python",
   "pygments_lexer": "ipython3",
   "version": "3.6.4"
  }
 },
 "nbformat": 4,
 "nbformat_minor": 2
}
