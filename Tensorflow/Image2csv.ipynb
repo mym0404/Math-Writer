{
 "cells": [
  {
   "cell_type": "code",
   "execution_count": 46,
   "metadata": {},
   "outputs": [],
   "source": [
    "import cv2 as cv2\n",
    "import numpy as np\n",
    "from matplotlib import pyplot as plt\n",
    "import math as math\n",
    "import os.path"
   ]
  },
  {
   "cell_type": "code",
   "execution_count": 57,
   "metadata": {},
   "outputs": [
    {
     "name": "stdout",
     "output_type": "stream",
     "text": [
      "100 번 째 이미지 처리 완료\n",
      "200 번 째 이미지 처리 완료\n",
      "300 번 째 이미지 처리 완료\n",
      "500 번 째 이미지 처리 완료\n",
      "600 번 째 이미지 처리 완료\n",
      "700 번 째 이미지 처리 완료\n",
      "800 번 째 이미지 처리 완료\n",
      "900 번 째 이미지 처리 완료\n"
     ]
    }
   ],
   "source": [
    "data_dir='non-mnist/'\n",
    "\n",
    "csv_list=[]\n",
    "\n",
    "for i in range(1,1001):\n",
    "    path_1=data_dir+'00000'+str(i)+'.jpg'\n",
    "    path_2=data_dir+'0000'+str(i)+'.jpg'\n",
    "    path_3=data_dir+'000'+str(i)+'.jpg'\n",
    "    path=\"\"\n",
    "    if os.path.isfile(path_1):\n",
    "        path=path_1\n",
    "    elif os.path.isfile(path_2):\n",
    "        path=path_2\n",
    "    elif os.path.isfile(path_3):\n",
    "        path=path_3\n",
    "    else:\n",
    "        continue\n",
    "    img=cv2.imread(path,0)\n",
    "    #plt.imshow(img,cmap='gray') #plt.show()\n",
    "    img=cv2.resize(img,(28,28),interpolation=cv2.INTER_NEAREST)\n",
    "    #plt.imshow(img,cmap='gray') #plt.show()\n",
    "    ret,img=cv2.threshold(img,170,255,cv2.THRESH_BINARY)\n",
    "    #plt.imshow(img,cmap='gray') #plt.show()\n",
    "    #mat -> nparray\n",
    "    a = np.asarray( img[:,:] )\n",
    "    a=np.reshape(a,newshape=[784])\n",
    "    #a=a/255\n",
    "    csv_list.append(a)    \n",
    "    if i % 100 == 0:\n",
    "        print(i,'번 째 이미지 처리 완료')\n",
    "    \n",
    "np.savetxt('non-mnist.csv',csv_list,delimiter=',')"
   ]
  },
  {
   "cell_type": "code",
   "execution_count": null,
   "metadata": {},
   "outputs": [],
   "source": []
  }
 ],
 "metadata": {
  "kernelspec": {
   "display_name": "Python 3",
   "language": "python",
   "name": "python3"
  },
  "language_info": {
   "codemirror_mode": {
    "name": "ipython",
    "version": 3
   },
   "file_extension": ".py",
   "mimetype": "text/x-python",
   "name": "python",
   "nbconvert_exporter": "python",
   "pygments_lexer": "ipython3",
   "version": "3.6.4"
  }
 },
 "nbformat": 4,
 "nbformat_minor": 2
}
